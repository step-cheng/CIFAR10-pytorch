{
  "nbformat": 4,
  "nbformat_minor": 0,
  "metadata": {
    "colab": {
      "provenance": [],
      "gpuType": "T4",
      "authorship_tag": "ABX9TyOLNB+HjIEdz2KnQG5/9hCa",
      "include_colab_link": true
    },
    "kernelspec": {
      "name": "python3",
      "display_name": "Python 3"
    },
    "language_info": {
      "name": "python"
    },
    "accelerator": "GPU"
  },
  "cells": [
    {
      "cell_type": "markdown",
      "metadata": {
        "id": "view-in-github",
        "colab_type": "text"
      },
      "source": [
        "<a href=\"https://colab.research.google.com/github/step-cheng/CIFAR10-pytorch/blob/main/CIFAR10.ipynb\" target=\"_parent\"><img src=\"https://colab.research.google.com/assets/colab-badge.svg\" alt=\"Open In Colab\"/></a>"
      ]
    },
    {
      "cell_type": "code",
      "source": [
        "# !pip install torch>=2.0.1\n",
        "# !pip install torchvision\n",
        "# !pip install -Uqq ipdb"
      ],
      "metadata": {
        "id": "cxi4yrAUw6Xu"
      },
      "execution_count": null,
      "outputs": []
    },
    {
      "cell_type": "code",
      "source": [
        "!git clone https://github.com/step-cheng/CIFAR10-pytorch.git\n",
        "# %cd CIFAR10-pytorch\n",
        "# !git pull\n",
        "# %cd .."
      ],
      "metadata": {
        "id": "iMWh0HmVil-K",
        "colab": {
          "base_uri": "https://localhost:8080/"
        },
        "outputId": "80116af9-7bc7-4b50-9aad-dffa3a1b1dfe"
      },
      "execution_count": 1,
      "outputs": [
        {
          "output_type": "stream",
          "name": "stdout",
          "text": [
            "Cloning into 'CIFAR10-pytorch'...\n",
            "remote: Enumerating objects: 126, done.\u001b[K\n",
            "remote: Counting objects: 100% (126/126), done.\u001b[K\n",
            "remote: Compressing objects: 100% (98/98), done.\u001b[K\n",
            "remote: Total 126 (delta 59), reused 65 (delta 26), pack-reused 0\u001b[K\n",
            "Receiving objects: 100% (126/126), 1.59 MiB | 10.86 MiB/s, done.\n",
            "Resolving deltas: 100% (59/59), done.\n"
          ]
        }
      ]
    },
    {
      "cell_type": "code",
      "source": [
        "# Turn on Google Colab Debugger\n",
        "# %pdb on\n",
        "# %pdb off"
      ],
      "metadata": {
        "id": "s-RkuDnC0V6M"
      },
      "execution_count": null,
      "outputs": []
    },
    {
      "cell_type": "code",
      "execution_count": 2,
      "metadata": {
        "id": "PoT6Z9S0m9Uk"
      },
      "outputs": [],
      "source": [
        "import torch\n",
        "from torch import nn\n",
        "import torchvision\n",
        "from torchvision import datasets, transforms\n",
        "import matplotlib.pyplot as plt\n",
        "import numpy as np\n",
        "from datetime import datetime\n",
        "# import ipdb"
      ]
    },
    {
      "cell_type": "code",
      "source": [
        "import sys\n",
        "sys.path.append('/content/CIFAR10-pytorch')\n",
        "from models import *\n",
        "from utils import accuracy"
      ],
      "metadata": {
        "id": "TTFGx7nMqUv4",
        "colab": {
          "base_uri": "https://localhost:8080/"
        },
        "outputId": "5f193950-d06f-43cc-a4d3-565b740178ca"
      },
      "execution_count": 3,
      "outputs": [
        {
          "output_type": "stream",
          "name": "stderr",
          "text": [
            "Downloading: \"https://download.pytorch.org/models/resnet18-f37072fd.pth\" to /root/.cache/torch/hub/checkpoints/resnet18-f37072fd.pth\n",
            "100%|██████████| 44.7M/44.7M [00:00<00:00, 76.5MB/s]\n",
            "Downloading: \"https://download.pytorch.org/models/vgg19_bn-c79401a0.pth\" to /root/.cache/torch/hub/checkpoints/vgg19_bn-c79401a0.pth\n",
            "100%|██████████| 548M/548M [00:07<00:00, 74.2MB/s]\n"
          ]
        }
      ]
    },
    {
      "cell_type": "code",
      "source": [
        "transform_train = transforms.Compose([transforms.RandomHorizontalFlip(),\n",
        "                                      transforms.ToTensor(),\n",
        "                                      transforms.Normalize((0.4914,0.4822,0.4465), (0.2470, 0.2435, 0.2616))])\n",
        "\n",
        "transform_test = transforms.Compose([transforms.ToTensor(),\n",
        "                                     transforms.Normalize((0.4942, 0.4851, 0.4504), (0.2467, 0.2429, 0.2616))])\n",
        "\n",
        "target_transform = None\n",
        "# target_transform = transforms.Lambda(lambda y : torch.zeros(10,dtype=torch.float).scatter(dim=0, index=torch.tensor(y),value=1))\n",
        "\n",
        "# 50000 train images\n",
        "train_data = datasets.CIFAR10(root='./', train=True, download=True, transform=transform_train, target_transform=target_transform)\n",
        "# DataLoader wraps an iterable over dataset for automatic batching, sampling, and dataloading\n",
        "train_loader = torch.utils.data.DataLoader(train_data, batch_size=128, shuffle=True)\n",
        "\n",
        "# 10000 test images\n",
        "test_data = datasets.CIFAR10(root='./', train=False, download=True, transform=transform_test, target_transform=target_transform)\n",
        "test_loader = torch.utils.data.DataLoader(test_data, batch_size=128, shuffle=True)\n",
        "\n",
        "classes = {\n",
        "    0 : 'plane',    1 : 'car',    2 : 'bird',   3 : 'cat',    4 : 'deer',\n",
        "    5 : 'dog',      6 : 'frog',   7 : 'horse',  8 : 'ship',   9 : 'truck'\n",
        "}"
      ],
      "metadata": {
        "id": "rl6hempmsxdB",
        "colab": {
          "base_uri": "https://localhost:8080/"
        },
        "outputId": "3783fdaa-dd98-4e16-97bc-1cc5580a3c34"
      },
      "execution_count": 4,
      "outputs": [
        {
          "output_type": "stream",
          "name": "stdout",
          "text": [
            "Downloading https://www.cs.toronto.edu/~kriz/cifar-10-python.tar.gz to ./cifar-10-python.tar.gz\n"
          ]
        },
        {
          "output_type": "stream",
          "name": "stderr",
          "text": [
            "100%|██████████| 170498071/170498071 [00:04<00:00, 37561012.75it/s]\n"
          ]
        },
        {
          "output_type": "stream",
          "name": "stdout",
          "text": [
            "Extracting ./cifar-10-python.tar.gz to ./\n",
            "Files already downloaded and verified\n"
          ]
        }
      ]
    },
    {
      "cell_type": "code",
      "source": [
        "# img, label = training_data[1]\n",
        "train_iter = iter(train_loader)\n",
        "img, label = next(train_iter)\n",
        "# print(img.shape)\n",
        "# print(label.shape)\n",
        "\n",
        "# shows image tensor\n",
        "def show(tens, label):\n",
        "  # make_grid makes a grid of images from a batch of tensors BxCxHxW\n",
        "  img = torchvision.utils.make_grid(tens) # flattens B dimension to make a grid\n",
        "  np_img = img.numpy()\n",
        "  plt.imshow(np.transpose(np_img, (1,2,0)))     # seems each image is spaced by 2 pixels, channels goes last when plotting\n",
        "  title = ' '.join([classes[t.item()] for t in label])\n",
        "  plt.title(title)\n",
        "\n",
        "# show(img, label)\n"
      ],
      "metadata": {
        "id": "IN42zO8090Eq"
      },
      "execution_count": 19,
      "outputs": []
    },
    {
      "cell_type": "code",
      "source": [
        "def train(dataloader, model, device, loss_fn, optimizer):\n",
        "  # sets the module to training mode, eval does the opposite\n",
        "  model.train()\n",
        "\n",
        "  accs = []\n",
        "  losses = []\n",
        "  matches = 0\n",
        "\n",
        "  for batch, (X, y) in enumerate(dataloader):\n",
        "    imgs, labels = X.to(device), y.to(device)\n",
        "\n",
        "    pred = model(imgs)\n",
        "    loss = loss_fn(pred, labels)\n",
        "    acc, m = accuracy(pred, labels)\n",
        "\n",
        "    losses.append(loss.item())\n",
        "    accs.append(acc)\n",
        "    matches += m\n",
        "    if batch % 50 == 0:\n",
        "      print(f\"Progress: {(batch+1) * len(X)}, current accuracy: {m/len(X)}\")\n",
        "\n",
        "    loss.backward()\n",
        "    # print(model.classifier[2].weight[:,0])\n",
        "    # print(model.classifier[2].weight.grad[:,0])\n",
        "    optimizer.step()\n",
        "    optimizer.zero_grad()\n",
        "\n",
        "  print(f\"Epoch Accuracy: {matches/50000}\")\n",
        "  return losses, accs\n",
        "\n"
      ],
      "metadata": {
        "id": "d9UtkukWtlz3"
      },
      "execution_count": 5,
      "outputs": []
    },
    {
      "cell_type": "code",
      "source": [
        "def test(dataloader, model, device):\n",
        "\n",
        "  # set module to testing mode, train does the opposite\n",
        "  model.eval()\n",
        "  accs = []\n",
        "  matches = 0\n",
        "\n",
        "  # used to turn off gradient calculations\n",
        "  with torch.no_grad():\n",
        "    for batch, (X,y) in enumerate(dataloader):\n",
        "      imgs, labels = X.to(device), y.to(device)\n",
        "\n",
        "      pred = model(imgs)\n",
        "      acc, m = accuracy(pred,labels)\n",
        "      matches += m\n",
        "\n",
        "      if batch % 50 == 0:\n",
        "        print(f\"Progress: {(batch+1)*len(X)}, current accuracy: {m/len(X)}\")\n",
        "        accs.append(acc)\n",
        "\n",
        "  print(f\"Test Accuracy: {matches/10000}\")"
      ],
      "metadata": {
        "id": "QWIRgUUwQkNs"
      },
      "execution_count": 6,
      "outputs": []
    },
    {
      "cell_type": "code",
      "source": [
        "if torch.cuda.is_available():\n",
        "    device = torch.device(\"cuda\")\n",
        "    print(f\"Pytorch version: {torch.__version__}\")\n",
        "    print(f\"Device name: {torch.cuda.get_device_name(0)}\")\n",
        "else:\n",
        "    device = torch.device(\"cpu\")\n",
        "    print(\"No GPU available.\")"
      ],
      "metadata": {
        "id": "tUN3qNOTBSo0",
        "colab": {
          "base_uri": "https://localhost:8080/"
        },
        "outputId": "025d0b44-7761-44b9-bff5-ad1802394d7e"
      },
      "execution_count": 7,
      "outputs": [
        {
          "output_type": "stream",
          "name": "stdout",
          "text": [
            "Pytorch version: 2.0.1+cu118\n",
            "Device name: Tesla T4\n"
          ]
        }
      ]
    },
    {
      "cell_type": "code",
      "source": [
        "model = mymodel.myNN().to(device)\n",
        "# model.half() # If doing this, input type and weight type need to be the same\n",
        "\n",
        "# set cross entropy loss and Adam optimizer functions\n",
        "loss_fn = nn.CrossEntropyLoss()\n",
        "# optimizer = torch.optim.SGD(model.parameters(), lr=0.001, momentum=0.9, weight_decay=0.005)\n",
        "optimizer = torch.optim.Adam(model.parameters(),lr=0.001,weight_decay=0.005)\n",
        "lr_sch = torch.optim.lr_scheduler.CosineAnnealingLR(optimizer, T_max=25)\n",
        "# lr_sch = torch.optim.lr_scheduler.StepLR(optimizer, step_size=14, gamma=0.1)"
      ],
      "metadata": {
        "id": "EDZy9L4bskv4"
      },
      "execution_count": 18,
      "outputs": []
    },
    {
      "cell_type": "code",
      "source": [
        "epochs = 25\n",
        "start = datetime.now()\n",
        "losses_ = []\n",
        "accuracies_ = []\n",
        "for e in range(epochs):\n",
        "  print(f\"Epoch {e+1}, learning rate {lr_sch.get_last_lr()}\")\n",
        "  losses, accuracies = train(train_loader, model, device, loss_fn, optimizer)\n",
        "  losses_.extend(losses)\n",
        "  accuracies_.extend(accuracies)\n",
        "  test(test_loader,model,device)\n",
        "  # return losses and accuracy, compile into big graph\n",
        "  optimizer.step()\n",
        "  lr_sch.step()\n",
        "elapse = datetime.now() - start\n",
        "print(\"Training Time: \", elapse)\n",
        "plt.figure()\n",
        "plt.plot(torch.arange(1,len(losses_)+1), losses_)\n",
        "plt.figure()\n",
        "plt.plot(torch.arange(1,len(accuracies_)+1), accuracies_)\n"
      ],
      "metadata": {
        "id": "k0SE_txDFhxD",
        "colab": {
          "base_uri": "https://localhost:8080/",
          "height": 1000
        },
        "outputId": "8ad767c2-c0ea-4735-a10b-fb98cfe3d86d"
      },
      "execution_count": 17,
      "outputs": [
        {
          "output_type": "stream",
          "name": "stdout",
          "text": [
            "Epoch 1, learning rate [0.001]\n",
            "Progress: 128, current accuracy: 0.1171875\n",
            "Progress: 6528, current accuracy: 0.3984375\n",
            "Progress: 12928, current accuracy: 0.4765625\n",
            "Progress: 19328, current accuracy: 0.453125\n",
            "Progress: 25728, current accuracy: 0.4921875\n",
            "Progress: 32128, current accuracy: 0.5625\n",
            "Progress: 38528, current accuracy: 0.5703125\n",
            "Progress: 44928, current accuracy: 0.4921875\n",
            "Epoch Accuracy: 0.44428\n",
            "Progress: 128, current accuracy: 0.453125\n",
            "Progress: 6528, current accuracy: 0.515625\n",
            "Test Accuracy: 0.5121\n",
            "Epoch 2, learning rate [0.000996057350657239]\n",
            "Progress: 128, current accuracy: 0.59375\n",
            "Progress: 6528, current accuracy: 0.53125\n",
            "Progress: 12928, current accuracy: 0.53125\n",
            "Progress: 19328, current accuracy: 0.5859375\n",
            "Progress: 25728, current accuracy: 0.578125\n",
            "Progress: 32128, current accuracy: 0.546875\n",
            "Progress: 38528, current accuracy: 0.6171875\n",
            "Progress: 44928, current accuracy: 0.6640625\n",
            "Epoch Accuracy: 0.57786\n",
            "Progress: 128, current accuracy: 0.5546875\n",
            "Progress: 6528, current accuracy: 0.6484375\n",
            "Test Accuracy: 0.5856\n",
            "Epoch 3, learning rate [0.0009842915805643156]\n",
            "Progress: 128, current accuracy: 0.578125\n",
            "Progress: 6528, current accuracy: 0.6796875\n",
            "Progress: 12928, current accuracy: 0.5703125\n",
            "Progress: 19328, current accuracy: 0.59375\n",
            "Progress: 25728, current accuracy: 0.5625\n",
            "Progress: 32128, current accuracy: 0.6015625\n",
            "Progress: 38528, current accuracy: 0.6484375\n",
            "Progress: 44928, current accuracy: 0.6640625\n",
            "Epoch Accuracy: 0.63452\n",
            "Progress: 128, current accuracy: 0.59375\n",
            "Progress: 6528, current accuracy: 0.609375\n",
            "Test Accuracy: 0.645\n",
            "Epoch 4, learning rate [0.0009648882429441258]\n",
            "Progress: 128, current accuracy: 0.6015625\n",
            "Progress: 6528, current accuracy: 0.65625\n",
            "Progress: 12928, current accuracy: 0.7109375\n",
            "Progress: 19328, current accuracy: 0.59375\n",
            "Progress: 25728, current accuracy: 0.59375\n",
            "Progress: 32128, current accuracy: 0.6953125\n",
            "Progress: 38528, current accuracy: 0.625\n",
            "Progress: 44928, current accuracy: 0.734375\n",
            "Epoch Accuracy: 0.67094\n",
            "Progress: 128, current accuracy: 0.7265625\n",
            "Progress: 6528, current accuracy: 0.671875\n",
            "Test Accuracy: 0.6846\n",
            "Epoch 5, learning rate [0.0009381533400219318]\n",
            "Progress: 128, current accuracy: 0.7109375\n",
            "Progress: 6528, current accuracy: 0.7421875\n",
            "Progress: 12928, current accuracy: 0.71875\n",
            "Progress: 19328, current accuracy: 0.765625\n",
            "Progress: 25728, current accuracy: 0.7265625\n",
            "Progress: 32128, current accuracy: 0.65625\n",
            "Progress: 38528, current accuracy: 0.671875\n",
            "Progress: 44928, current accuracy: 0.7109375\n",
            "Epoch Accuracy: 0.70554\n",
            "Progress: 128, current accuracy: 0.703125\n",
            "Progress: 6528, current accuracy: 0.6875\n",
            "Test Accuracy: 0.6902\n",
            "Epoch 6, learning rate [0.0009045084971874737]\n",
            "Progress: 128, current accuracy: 0.765625\n",
            "Progress: 6528, current accuracy: 0.765625\n",
            "Progress: 12928, current accuracy: 0.75\n",
            "Progress: 19328, current accuracy: 0.75\n",
            "Progress: 25728, current accuracy: 0.75\n",
            "Progress: 32128, current accuracy: 0.7109375\n",
            "Progress: 38528, current accuracy: 0.7734375\n",
            "Progress: 44928, current accuracy: 0.71875\n",
            "Epoch Accuracy: 0.7289\n",
            "Progress: 128, current accuracy: 0.6171875\n",
            "Progress: 6528, current accuracy: 0.7109375\n",
            "Test Accuracy: 0.7006\n",
            "Epoch 7, learning rate [0.0008644843137107057]\n",
            "Progress: 128, current accuracy: 0.75\n",
            "Progress: 6528, current accuracy: 0.7421875\n",
            "Progress: 12928, current accuracy: 0.7890625\n",
            "Progress: 19328, current accuracy: 0.7578125\n",
            "Progress: 25728, current accuracy: 0.7890625\n",
            "Progress: 32128, current accuracy: 0.71875\n",
            "Progress: 38528, current accuracy: 0.6953125\n",
            "Progress: 44928, current accuracy: 0.71875\n",
            "Epoch Accuracy: 0.74178\n",
            "Progress: 128, current accuracy: 0.6875\n",
            "Progress: 6528, current accuracy: 0.7265625\n",
            "Test Accuracy: 0.7259\n",
            "Epoch 8, learning rate [0.0008187119948743448]\n",
            "Progress: 128, current accuracy: 0.8125\n",
            "Progress: 6528, current accuracy: 0.703125\n",
            "Progress: 12928, current accuracy: 0.765625\n",
            "Progress: 19328, current accuracy: 0.8046875\n",
            "Progress: 25728, current accuracy: 0.671875\n",
            "Progress: 32128, current accuracy: 0.796875\n",
            "Progress: 38528, current accuracy: 0.75\n",
            "Progress: 44928, current accuracy: 0.765625\n",
            "Epoch Accuracy: 0.7568\n",
            "Progress: 128, current accuracy: 0.6640625\n",
            "Progress: 6528, current accuracy: 0.71875\n",
            "Test Accuracy: 0.7238\n",
            "Epoch 9, learning rate [0.0007679133974894982]\n",
            "Progress: 128, current accuracy: 0.7265625\n",
            "Progress: 6528, current accuracy: 0.7578125\n",
            "Progress: 12928, current accuracy: 0.7890625\n",
            "Progress: 19328, current accuracy: 0.8046875\n",
            "Progress: 25728, current accuracy: 0.8203125\n",
            "Progress: 32128, current accuracy: 0.7734375\n",
            "Progress: 38528, current accuracy: 0.8046875\n",
            "Progress: 44928, current accuracy: 0.8125\n",
            "Epoch Accuracy: 0.76762\n",
            "Progress: 128, current accuracy: 0.78125\n",
            "Progress: 6528, current accuracy: 0.8046875\n",
            "Test Accuracy: 0.7477\n",
            "Epoch 10, learning rate [0.0007128896457825362]\n",
            "Progress: 128, current accuracy: 0.75\n",
            "Progress: 6528, current accuracy: 0.796875\n",
            "Progress: 12928, current accuracy: 0.7734375\n",
            "Progress: 19328, current accuracy: 0.7578125\n",
            "Progress: 25728, current accuracy: 0.8125\n",
            "Progress: 32128, current accuracy: 0.78125\n",
            "Progress: 38528, current accuracy: 0.8125\n",
            "Progress: 44928, current accuracy: 0.7734375\n",
            "Epoch Accuracy: 0.78008\n",
            "Progress: 128, current accuracy: 0.6953125\n",
            "Progress: 6528, current accuracy: 0.796875\n",
            "Test Accuracy: 0.7532\n",
            "Epoch 11, learning rate [0.0006545084971874736]\n",
            "Progress: 128, current accuracy: 0.75\n",
            "Progress: 6528, current accuracy: 0.7890625\n",
            "Progress: 12928, current accuracy: 0.828125\n",
            "Progress: 19328, current accuracy: 0.8046875\n",
            "Progress: 25728, current accuracy: 0.8671875\n",
            "Progress: 32128, current accuracy: 0.8125\n",
            "Progress: 38528, current accuracy: 0.765625\n",
            "Progress: 44928, current accuracy: 0.8125\n",
            "Epoch Accuracy: 0.79206\n",
            "Progress: 128, current accuracy: 0.8046875\n",
            "Progress: 6528, current accuracy: 0.7421875\n",
            "Test Accuracy: 0.7616\n",
            "Epoch 12, learning rate [0.0005936906572928624]\n",
            "Progress: 128, current accuracy: 0.8828125\n",
            "Progress: 6528, current accuracy: 0.78125\n",
            "Progress: 12928, current accuracy: 0.7890625\n",
            "Progress: 19328, current accuracy: 0.765625\n",
            "Progress: 25728, current accuracy: 0.84375\n",
            "Progress: 32128, current accuracy: 0.7734375\n",
            "Progress: 38528, current accuracy: 0.796875\n",
            "Progress: 44928, current accuracy: 0.859375\n",
            "Epoch Accuracy: 0.8024\n",
            "Progress: 128, current accuracy: 0.796875\n",
            "Progress: 6528, current accuracy: 0.796875\n",
            "Test Accuracy: 0.7647\n",
            "Epoch 13, learning rate [0.0005313952597646568]\n",
            "Progress: 128, current accuracy: 0.8125\n",
            "Progress: 6528, current accuracy: 0.84375\n",
            "Progress: 12928, current accuracy: 0.8203125\n",
            "Progress: 19328, current accuracy: 0.8671875\n",
            "Progress: 25728, current accuracy: 0.84375\n",
            "Progress: 32128, current accuracy: 0.796875\n",
            "Progress: 38528, current accuracy: 0.796875\n",
            "Progress: 44928, current accuracy: 0.7890625\n",
            "Epoch Accuracy: 0.81166\n",
            "Progress: 128, current accuracy: 0.734375\n",
            "Progress: 6528, current accuracy: 0.734375\n",
            "Test Accuracy: 0.7592\n",
            "Epoch 14, learning rate [0.00046860474023534336]\n",
            "Progress: 128, current accuracy: 0.84375\n",
            "Progress: 6528, current accuracy: 0.8359375\n",
            "Progress: 12928, current accuracy: 0.8671875\n",
            "Progress: 19328, current accuracy: 0.84375\n",
            "Progress: 25728, current accuracy: 0.8046875\n",
            "Progress: 32128, current accuracy: 0.8203125\n",
            "Progress: 38528, current accuracy: 0.8125\n",
            "Progress: 44928, current accuracy: 0.765625\n",
            "Epoch Accuracy: 0.82262\n",
            "Progress: 128, current accuracy: 0.828125\n",
            "Progress: 6528, current accuracy: 0.75\n",
            "Test Accuracy: 0.7895\n",
            "Epoch 15, learning rate [0.0004063093427071377]\n",
            "Progress: 128, current accuracy: 0.8203125\n",
            "Progress: 6528, current accuracy: 0.828125\n",
            "Progress: 12928, current accuracy: 0.84375\n",
            "Progress: 19328, current accuracy: 0.8203125\n",
            "Progress: 25728, current accuracy: 0.7578125\n",
            "Progress: 32128, current accuracy: 0.7890625\n",
            "Progress: 38528, current accuracy: 0.8203125\n",
            "Progress: 44928, current accuracy: 0.8671875\n",
            "Epoch Accuracy: 0.83194\n",
            "Progress: 128, current accuracy: 0.8046875\n",
            "Progress: 6528, current accuracy: 0.7734375\n",
            "Test Accuracy: 0.8043\n",
            "Epoch 16, learning rate [0.00034549150281252644]\n",
            "Progress: 128, current accuracy: 0.8828125\n",
            "Progress: 6528, current accuracy: 0.8671875\n",
            "Progress: 12928, current accuracy: 0.828125\n",
            "Progress: 19328, current accuracy: 0.84375\n",
            "Progress: 25728, current accuracy: 0.828125\n",
            "Progress: 32128, current accuracy: 0.8828125\n",
            "Progress: 38528, current accuracy: 0.7890625\n",
            "Progress: 44928, current accuracy: 0.875\n",
            "Epoch Accuracy: 0.84144\n",
            "Progress: 128, current accuracy: 0.7890625\n",
            "Progress: 6528, current accuracy: 0.75\n",
            "Test Accuracy: 0.8179\n",
            "Epoch 17, learning rate [0.00028711035421746366]\n",
            "Progress: 128, current accuracy: 0.875\n",
            "Progress: 6528, current accuracy: 0.8828125\n",
            "Progress: 12928, current accuracy: 0.859375\n",
            "Progress: 19328, current accuracy: 0.84375\n",
            "Progress: 25728, current accuracy: 0.8359375\n",
            "Progress: 32128, current accuracy: 0.875\n",
            "Progress: 38528, current accuracy: 0.859375\n",
            "Progress: 44928, current accuracy: 0.8515625\n",
            "Epoch Accuracy: 0.85394\n",
            "Progress: 128, current accuracy: 0.765625\n",
            "Progress: 6528, current accuracy: 0.75\n",
            "Test Accuracy: 0.8177\n",
            "Epoch 18, learning rate [0.00023208660251050156]\n",
            "Progress: 128, current accuracy: 0.859375\n",
            "Progress: 6528, current accuracy: 0.8671875\n",
            "Progress: 12928, current accuracy: 0.8671875\n",
            "Progress: 19328, current accuracy: 0.828125\n",
            "Progress: 25728, current accuracy: 0.84375\n",
            "Progress: 32128, current accuracy: 0.8359375\n",
            "Progress: 38528, current accuracy: 0.8828125\n",
            "Progress: 44928, current accuracy: 0.8671875\n",
            "Epoch Accuracy: 0.86524\n",
            "Progress: 128, current accuracy: 0.8984375\n",
            "Progress: 6528, current accuracy: 0.8671875\n",
            "Test Accuracy: 0.8342\n",
            "Epoch 19, learning rate [0.00018128800512565513]\n",
            "Progress: 128, current accuracy: 0.8671875\n",
            "Progress: 6528, current accuracy: 0.859375\n",
            "Progress: 12928, current accuracy: 0.8828125\n",
            "Progress: 19328, current accuracy: 0.8671875\n",
            "Progress: 25728, current accuracy: 0.8359375\n",
            "Progress: 32128, current accuracy: 0.890625\n",
            "Progress: 38528, current accuracy: 0.890625\n",
            "Progress: 44928, current accuracy: 0.8828125\n",
            "Epoch Accuracy: 0.8769\n",
            "Progress: 128, current accuracy: 0.828125\n",
            "Progress: 6528, current accuracy: 0.828125\n",
            "Test Accuracy: 0.831\n",
            "Epoch 20, learning rate [0.00013551568628929433]\n",
            "Progress: 128, current accuracy: 0.828125\n",
            "Progress: 6528, current accuracy: 0.921875\n",
            "Progress: 12928, current accuracy: 0.890625\n",
            "Progress: 19328, current accuracy: 0.875\n",
            "Progress: 25728, current accuracy: 0.8828125\n",
            "Progress: 32128, current accuracy: 0.890625\n",
            "Progress: 38528, current accuracy: 0.8671875\n",
            "Progress: 44928, current accuracy: 0.921875\n",
            "Epoch Accuracy: 0.88802\n",
            "Progress: 128, current accuracy: 0.78125\n",
            "Progress: 6528, current accuracy: 0.875\n",
            "Test Accuracy: 0.8381\n",
            "Epoch 21, learning rate [9.549150281252634e-05]\n",
            "Progress: 128, current accuracy: 0.90625\n",
            "Progress: 6528, current accuracy: 0.9296875\n",
            "Progress: 12928, current accuracy: 0.9296875\n",
            "Progress: 19328, current accuracy: 0.8828125\n",
            "Progress: 25728, current accuracy: 0.9296875\n",
            "Progress: 32128, current accuracy: 0.8984375\n",
            "Progress: 38528, current accuracy: 0.84375\n",
            "Progress: 44928, current accuracy: 0.8984375\n",
            "Epoch Accuracy: 0.8986\n",
            "Progress: 128, current accuracy: 0.84375\n",
            "Progress: 6528, current accuracy: 0.8828125\n",
            "Test Accuracy: 0.8468\n",
            "Epoch 22, learning rate [6.184665997806823e-05]\n",
            "Progress: 128, current accuracy: 0.90625\n",
            "Progress: 6528, current accuracy: 0.921875\n",
            "Progress: 12928, current accuracy: 0.921875\n",
            "Progress: 19328, current accuracy: 0.890625\n",
            "Progress: 25728, current accuracy: 0.8984375\n",
            "Progress: 32128, current accuracy: 0.9609375\n",
            "Progress: 38528, current accuracy: 0.953125\n",
            "Progress: 44928, current accuracy: 0.8828125\n",
            "Epoch Accuracy: 0.90774\n",
            "Progress: 128, current accuracy: 0.8515625\n",
            "Progress: 6528, current accuracy: 0.890625\n",
            "Test Accuracy: 0.8517\n",
            "Epoch 23, learning rate [3.511175705587433e-05]\n",
            "Progress: 128, current accuracy: 0.890625\n",
            "Progress: 6528, current accuracy: 0.8984375\n",
            "Progress: 12928, current accuracy: 0.921875\n",
            "Progress: 19328, current accuracy: 0.890625\n",
            "Progress: 25728, current accuracy: 0.9453125\n",
            "Progress: 32128, current accuracy: 0.921875\n",
            "Progress: 38528, current accuracy: 0.875\n",
            "Progress: 44928, current accuracy: 0.9375\n",
            "Epoch Accuracy: 0.91356\n",
            "Progress: 128, current accuracy: 0.8828125\n",
            "Progress: 6528, current accuracy: 0.84375\n",
            "Test Accuracy: 0.851\n",
            "Epoch 24, learning rate [1.570841943568452e-05]\n",
            "Progress: 128, current accuracy: 0.9140625\n",
            "Progress: 6528, current accuracy: 0.953125\n",
            "Progress: 12928, current accuracy: 0.9140625\n",
            "Progress: 19328, current accuracy: 0.875\n",
            "Progress: 25728, current accuracy: 0.875\n",
            "Progress: 32128, current accuracy: 0.8984375\n",
            "Progress: 38528, current accuracy: 0.9296875\n",
            "Progress: 44928, current accuracy: 0.9375\n",
            "Epoch Accuracy: 0.9188\n",
            "Progress: 128, current accuracy: 0.8046875\n",
            "Progress: 6528, current accuracy: 0.8828125\n",
            "Test Accuracy: 0.8514\n",
            "Epoch 25, learning rate [3.942649342761118e-06]\n",
            "Progress: 128, current accuracy: 0.9375\n",
            "Progress: 6528, current accuracy: 0.9140625\n",
            "Progress: 12928, current accuracy: 0.9296875\n",
            "Progress: 19328, current accuracy: 0.9375\n",
            "Progress: 25728, current accuracy: 0.9296875\n",
            "Progress: 32128, current accuracy: 0.9296875\n",
            "Progress: 38528, current accuracy: 0.9296875\n",
            "Progress: 44928, current accuracy: 0.9375\n",
            "Epoch Accuracy: 0.92032\n",
            "Progress: 128, current accuracy: 0.859375\n",
            "Progress: 6528, current accuracy: 0.828125\n",
            "Test Accuracy: 0.8514\n",
            "Training Time:  0:08:12.742543\n"
          ]
        },
        {
          "output_type": "execute_result",
          "data": {
            "text/plain": [
              "[<matplotlib.lines.Line2D at 0x7b0ecda76950>]"
            ]
          },
          "metadata": {},
          "execution_count": 17
        },
        {
          "output_type": "display_data",
          "data": {
            "text/plain": [
              "<Figure size 640x480 with 1 Axes>"
            ],
            "image/png": "[encoded data removed]"
          },
          "metadata": {}
        },
        {
          "output_type": "display_data",
          "data": {
            "text/plain": [
              "<Figure size 640x480 with 1 Axes>"
            ],
            "image/png": "[encoded data removed]"
          },
          "metadata": {}
        }
      ]
    }
  ]
}