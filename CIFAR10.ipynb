{
  "nbformat": 4,
  "nbformat_minor": 0,
  "metadata": {
    "colab": {
      "provenance": [],
      "authorship_tag": "ABX9TyPopWBze7bQ78SMWO3U45Eo",
      "include_colab_link": true
    },
    "kernelspec": {
      "name": "python3",
      "display_name": "Python 3"
    },
    "language_info": {
      "name": "python"
    }
  },
  "cells": [
    {
      "cell_type": "markdown",
      "metadata": {
        "id": "view-in-github",
        "colab_type": "text"
      },
      "source": [
        "<a href=\"https://colab.research.google.com/github/step-cheng/CIFAR10-pytorch/blob/main/CIFAR10.ipynb\" target=\"_parent\"><img src=\"https://colab.research.google.com/assets/colab-badge.svg\" alt=\"Open In Colab\"/></a>"
      ]
    },
    {
      "cell_type": "code",
      "source": [
        "!pip install torch>=2.0.1\n",
        "!pip install torchvision"
      ],
      "metadata": {
        "colab": {
          "base_uri": "https://localhost:8080/"
        },
        "id": "cxi4yrAUw6Xu",
        "outputId": "effda16d-968e-4e68-ab9c-04d4c65747de"
      },
      "execution_count": null,
      "outputs": [
        {
          "output_type": "stream",
          "name": "stdout",
          "text": [
            "Requirement already satisfied: torchvision in /usr/local/lib/python3.10/dist-packages (0.15.2+cu118)\n",
            "Requirement already satisfied: numpy in /usr/local/lib/python3.10/dist-packages (from torchvision) (1.23.5)\n",
            "Requirement already satisfied: requests in /usr/local/lib/python3.10/dist-packages (from torchvision) (2.31.0)\n",
            "Requirement already satisfied: torch==2.0.1 in /usr/local/lib/python3.10/dist-packages (from torchvision) (2.0.1+cu118)\n",
            "Requirement already satisfied: pillow!=8.3.*,>=5.3.0 in /usr/local/lib/python3.10/dist-packages (from torchvision) (9.4.0)\n",
            "Requirement already satisfied: filelock in /usr/local/lib/python3.10/dist-packages (from torch==2.0.1->torchvision) (3.12.2)\n",
            "Requirement already satisfied: typing-extensions in /usr/local/lib/python3.10/dist-packages (from torch==2.0.1->torchvision) (4.7.1)\n",
            "Requirement already satisfied: sympy in /usr/local/lib/python3.10/dist-packages (from torch==2.0.1->torchvision) (1.12)\n",
            "Requirement already satisfied: networkx in /usr/local/lib/python3.10/dist-packages (from torch==2.0.1->torchvision) (3.1)\n",
            "Requirement already satisfied: jinja2 in /usr/local/lib/python3.10/dist-packages (from torch==2.0.1->torchvision) (3.1.2)\n",
            "Requirement already satisfied: triton==2.0.0 in /usr/local/lib/python3.10/dist-packages (from torch==2.0.1->torchvision) (2.0.0)\n",
            "Requirement already satisfied: cmake in /usr/local/lib/python3.10/dist-packages (from triton==2.0.0->torch==2.0.1->torchvision) (3.27.2)\n",
            "Requirement already satisfied: lit in /usr/local/lib/python3.10/dist-packages (from triton==2.0.0->torch==2.0.1->torchvision) (16.0.6)\n",
            "Requirement already satisfied: charset-normalizer<4,>=2 in /usr/local/lib/python3.10/dist-packages (from requests->torchvision) (3.2.0)\n",
            "Requirement already satisfied: idna<4,>=2.5 in /usr/local/lib/python3.10/dist-packages (from requests->torchvision) (3.4)\n",
            "Requirement already satisfied: urllib3<3,>=1.21.1 in /usr/local/lib/python3.10/dist-packages (from requests->torchvision) (2.0.4)\n",
            "Requirement already satisfied: certifi>=2017.4.17 in /usr/local/lib/python3.10/dist-packages (from requests->torchvision) (2023.7.22)\n",
            "Requirement already satisfied: MarkupSafe>=2.0 in /usr/local/lib/python3.10/dist-packages (from jinja2->torch==2.0.1->torchvision) (2.1.3)\n",
            "Requirement already satisfied: mpmath>=0.19 in /usr/local/lib/python3.10/dist-packages (from sympy->torch==2.0.1->torchvision) (1.3.0)\n"
          ]
        }
      ]
    },
    {
      "cell_type": "code",
      "execution_count": 1,
      "metadata": {
        "id": "PoT6Z9S0m9Uk"
      },
      "outputs": [],
      "source": [
        "import torch\n",
        "from torch import nn\n",
        "import torchvision\n",
        "from torchvision import datasets, transforms\n",
        "import matplotlib.pyplot as plt\n",
        "import numpy as np"
      ]
    },
    {
      "cell_type": "code",
      "source": [
        "\n",
        "train_data = datasets.CIFAR10(root='./', train=True, download=True, transform=transforms.ToTensor(),\n",
        "                              target_transform=transforms.Lambda(lambda y : torch.zeros(10,dtype=torch.float).scatter(dim=0,\n",
        "                                                                                                                       index=torch.tensor(y),\n",
        "                                                                                                                       value=1)))\n",
        "# DataLoader wraps an iterable over dataset for automatic batching, sampling, and dataloading\n",
        "train_loader = torch.utils.data.DataLoader(train_data, batch_size=64, shuffle=True)\n",
        "\n",
        "test_data = datasets.CIFAR10(root='./', train=False, download=True, transform=transforms.ToTensor(),\n",
        "                             target_transform=transforms.Lambda(lambda y : torch.zeros(10,dtype=torch.float).scatter(dim=0,\n",
        "                                                                                                                       index=torch.tensor(y),\n",
        "                                                                                                                       value=1)))\n",
        "test_loader = torch.utils.data.DataLoader(test_data, batch_size=64, shuffle=True)\n",
        "\n",
        "classes = {\n",
        "    0 : 'plane',    1 : 'car',    2 : 'bird',   3 : 'cat',    4 : 'deer',\n",
        "    5 : 'dog',      6 : 'frog',   7 : 'horse',  8 : 'ship',   9 : 'truck'\n",
        "}"
      ],
      "metadata": {
        "colab": {
          "base_uri": "https://localhost:8080/"
        },
        "id": "rl6hempmsxdB",
        "outputId": "c25a87d9-bd29-4232-a780-7b39dba65d5a"
      },
      "execution_count": 105,
      "outputs": [
        {
          "output_type": "stream",
          "name": "stdout",
          "text": [
            "Files already downloaded and verified\n",
            "Files already downloaded and verified\n"
          ]
        }
      ]
    },
    {
      "cell_type": "code",
      "source": [
        "# img, label = training_data[1]\n",
        "train_iter = iter(train_loader)\n",
        "# img, label = next(train_iter)\n",
        "# print(img.shape)\n",
        "# print(label.shape)\n",
        "\n",
        "# shows image tensor\n",
        "def show(tens, label):\n",
        "  # make_grid makes a grid of images from a batch of tensors BxCxHxW\n",
        "  label = torch.argmax(label,dim=1)\n",
        "  print(label)\n",
        "  img = torchvision.utils.make_grid(tens) # flattens B dimension to make a grid\n",
        "  np_img = img.numpy()\n",
        "  plt.imshow(np.transpose(np_img, (1,2,0)))     # seems each image is spaced by 2 pixels, channels goes last when plotting\n",
        "  # title = classes[label]\n",
        "  title = ' '.join([classes[t.item()] for t in label])\n",
        "  plt.title(title)\n",
        "\n",
        "# show(img, label)\n"
      ],
      "metadata": {
        "id": "IN42zO8090Eq"
      },
      "execution_count": 108,
      "outputs": []
    },
    {
      "cell_type": "code",
      "source": [
        "# # sample custom dataset to illustrate a dataset and enumerate loader\n",
        "\n",
        "# class sample():\n",
        "#   def __init__(self):\n",
        "#     numbers = range(0,100,2)\n",
        "#     self.data = numbers\n",
        "\n",
        "#   # need __len__ for shuffling\n",
        "#   def __len__(self):\n",
        "#     return len(self.data)\n",
        "\n",
        "#   # need __getitem__ for subscripting\n",
        "#   def __getitem__(self, ind):\n",
        "#     return self.data[ind]\n",
        "\n",
        "# sample = sample()\n",
        "# loader = torch.utils.data.DataLoader(sample, batch_size = 5, shuffle = True)\n",
        "\n",
        "# for i, batch in enumerate(loader):\n",
        "#   print(i, batch)\n",
        "\n"
      ],
      "metadata": {
        "id": "AuNnL-Ng9x9K"
      },
      "execution_count": null,
      "outputs": []
    },
    {
      "cell_type": "code",
      "source": [
        "# Make a class for your model\n",
        "\n",
        "# nn is composed of a bunch of subclasses, myNN inherits from nn.Module\n",
        "# within a subclass of torch.nn.Module, it's assumed we want to track gradients on the layer's weights\n",
        "class myNN(nn.Module):\n",
        "\n",
        "  def __init__(self):\n",
        "    super().__init__()\n",
        "    self.flat = nn.Flatten()\n",
        "\n",
        "    # Sequential class stores modules that will be passed sequentially through constructor\n",
        "    # input: 64x3x32x32;   output: 64x16x8x8\n",
        "    self.conv_pool_stack = nn.Sequential(\n",
        "      nn.Conv2d(3,16,kernel_size=3,padding=1, bias=False),\n",
        "      nn.ReLU(),\n",
        "      nn.Conv2d(16,16,kernel_size=3,padding=1, bias=False),\n",
        "      nn.ReLU(),\n",
        "      nn.MaxPool2d(2,stride=2),\n",
        "      nn.BatchNorm2d(16),\n",
        "      nn.Conv2d(16,32,kernel_size=3,padding=1,bias=False),\n",
        "      nn.ReLU(),\n",
        "      nn.Conv2d(32,32,kernel_size=3,padding=1,bias=False),\n",
        "      nn.ReLU(),\n",
        "      nn.MaxPool2d(2,stride=2),\n",
        "      nn.BatchNorm2d(32)\n",
        "    )\n",
        "\n",
        "    # input: 64x32x8x8;    output: 16x10\n",
        "    self.linear_relu_stack = nn.Sequential(\n",
        "      self.flat,           # Flatten class flattens starting at dimension default 1 and ending at dimension default -1 --> 16x2048\n",
        "      nn.Linear(2048, 512, bias=True),\n",
        "      nn.ReLU(),\n",
        "      nn.Dropout(p=0.5),\n",
        "      nn.Linear(512, 512, bias=True),\n",
        "      nn.ReLU(),\n",
        "      nn.Dropout(p=0.5),\n",
        "      nn.Linear(512, 10, bias=True),\n",
        "      nn.Softmax(dim=1)\n",
        "    )\n",
        "\n",
        "  def forward(self,x):\n",
        "    after_conv = self.conv_pool_stack(x)\n",
        "    logits = self.linear_relu_stack(after_conv)\n",
        "    return logits\n",
        "\n",
        "device = (\"gpu\" if torch.cuda.is_available() else \"cpu\")\n",
        "\n",
        "# to() creates an instance of the network and moves it to a device\n",
        "model = myNN().to(device)\n",
        "# print(myNN)\n",
        "print(model)\n",
        "\n"
      ],
      "metadata": {
        "colab": {
          "base_uri": "https://localhost:8080/"
        },
        "id": "EmsTIb9xtFuL",
        "outputId": "4ebddd1e-3c6f-4fe1-9b0d-a574e7eeced2"
      },
      "execution_count": 122,
      "outputs": [
        {
          "output_type": "stream",
          "name": "stdout",
          "text": [
            "myNN(\n",
            "  (flat): Flatten(start_dim=1, end_dim=-1)\n",
            "  (conv_pool_stack): Sequential(\n",
            "    (0): Conv2d(3, 16, kernel_size=(3, 3), stride=(1, 1), padding=(1, 1), bias=False)\n",
            "    (1): ReLU()\n",
            "    (2): Conv2d(16, 16, kernel_size=(3, 3), stride=(1, 1), padding=(1, 1), bias=False)\n",
            "    (3): ReLU()\n",
            "    (4): MaxPool2d(kernel_size=2, stride=2, padding=0, dilation=1, ceil_mode=False)\n",
            "    (5): BatchNorm2d(16, eps=1e-05, momentum=0.1, affine=True, track_running_stats=True)\n",
            "    (6): Conv2d(16, 32, kernel_size=(3, 3), stride=(1, 1), padding=(1, 1), bias=False)\n",
            "    (7): ReLU()\n",
            "    (8): Conv2d(32, 32, kernel_size=(3, 3), stride=(1, 1), padding=(1, 1), bias=False)\n",
            "    (9): ReLU()\n",
            "    (10): MaxPool2d(kernel_size=2, stride=2, padding=0, dilation=1, ceil_mode=False)\n",
            "    (11): BatchNorm2d(32, eps=1e-05, momentum=0.1, affine=True, track_running_stats=True)\n",
            "  )\n",
            "  (linear_relu_stack): Sequential(\n",
            "    (0): Flatten(start_dim=1, end_dim=-1)\n",
            "    (1): Linear(in_features=2048, out_features=512, bias=True)\n",
            "    (2): ReLU()\n",
            "    (3): Dropout(p=0.5, inplace=False)\n",
            "    (4): Linear(in_features=512, out_features=512, bias=True)\n",
            "    (5): ReLU()\n",
            "    (6): Dropout(p=0.5, inplace=False)\n",
            "    (7): Linear(in_features=512, out_features=10, bias=True)\n",
            "    (8): Softmax(dim=1)\n",
            "  )\n",
            ")\n"
          ]
        }
      ]
    },
    {
      "cell_type": "code",
      "source": [
        "# print(model.conv_pool_stack[0].weight[0,0])\n",
        "# loss_fn = nn.CrossEntropyLoss()\n",
        "# optimizer = torch.optim.SGD(model.parameters(),lr=0.1)\n",
        "\n",
        "# input = torch.randn((4,3,32,32),requires_grad=False)\n",
        "# target = torch.randint(0,10,size=(4,))\n",
        "# logits = model(input)\n",
        "# loss = loss_fn(logits,target)\n",
        "# print(loss)\n",
        "# loss.backward()\n",
        "# print(model.conv_pool_stack[0].weight[0,0])\n",
        "# print(model.conv_pool_stack[0].weight.grad[0,0])\n",
        "# optimizer.step()\n",
        "# print(model.conv_pool_stack[0].weight[0,0])\n",
        "# print(model.conv_pool_stack[0].weight.grad[0,0])\n",
        "# optimizer.zero_grad()"
      ],
      "metadata": {
        "id": "LOYylidu55o6"
      },
      "execution_count": 93,
      "outputs": []
    },
    {
      "cell_type": "code",
      "source": [
        "def preprocess(x):\n",
        "  # find std and mean per channel\n",
        "  x_stds = torch.sqrt(torch.var(x, dim=(0,2,3)))\n",
        "  x_means = torch.sum(x, dim=(0,2,3)) / (x.shape[0]*x.shape[2]*x.shape[3])\n",
        "\n",
        "  for channel in range(3):\n",
        "    x[:,channel,:,:] -= x_means[channel]\n",
        "    x[:,channel,:,:] /= x_stds[channel]\n",
        "  return x"
      ],
      "metadata": {
        "id": "8rckwQjk9RPv"
      },
      "execution_count": 117,
      "outputs": []
    },
    {
      "cell_type": "code",
      "source": [
        "# loss = nn.CrossEntropyLoss()\n",
        "# input = torch.randn(3,5,requires_grad=True)\n",
        "# target = torch.empty(3, dtype=torch.long).random_(5)\n",
        "# print(input)\n",
        "# print(target)\n",
        "# output = loss(input, target)\n",
        "# print(output)"
      ],
      "metadata": {
        "colab": {
          "base_uri": "https://localhost:8080/"
        },
        "id": "th--6XvuWSAV",
        "outputId": "542cca2e-9411-4dd2-aacc-4021272f2e8f"
      },
      "execution_count": null,
      "outputs": [
        {
          "output_type": "stream",
          "name": "stdout",
          "text": [
            "tensor([[ 0.3937, -1.0645, -0.1070, -0.5093,  0.4135],\n",
            "        [-0.6726, -0.8393,  0.1113,  1.4253,  0.5300],\n",
            "        [-0.0546, -1.6749,  1.4007, -1.8935,  1.1557]], requires_grad=True)\n",
            "tensor([0, 4, 0])\n",
            "tensor(1.6397, grad_fn=<NllLossBackward0>)\n"
          ]
        }
      ]
    },
    {
      "cell_type": "code",
      "source": [
        "def accuracy(pred,y):\n",
        "  guesses = torch.argmax(pred,dim=1)\n",
        "  matches = sum(guesses==y)\n",
        "  return matches/torch.numel(y), matches\n"
      ],
      "metadata": {
        "id": "c3q0ZeYhekEr"
      },
      "execution_count": 73,
      "outputs": []
    },
    {
      "cell_type": "code",
      "source": [
        "def train(dataloader, model, loss_fn, optimizer):\n",
        "  # sets the module to training mode, eval does the opposite\n",
        "  model.train()\n",
        "\n",
        "  accs = []\n",
        "  matches = 0\n",
        "\n",
        "  for batch, (X, y) in enumerate(dataloader):\n",
        "    imgs = X.to(device)\n",
        "    labels = y.to(device)\n",
        "\n",
        "    # do not call model.foward(X), doing model(X) calls the __call__() function which does a few extra hooks...\n",
        "    imgs = preprocess(imgs)\n",
        "    pred = model(imgs)\n",
        "    loss = loss_fn(pred, torch.argmax(labels,dim=1))\n",
        "    acc, m = accuracy(pred,torch.argmax(labels,dim=1))\n",
        "    matches += m\n",
        "\n",
        "    if batch % 50 == 0:\n",
        "      accs.append(acc)\n",
        "      print(f\"Progress: {(batch) * len(X)}, total accuracy: {matches/((batch+1)*len(X))}\")\n",
        "\n",
        "    # Backpropagation\n",
        "    loss.backward()     # backpropagates prediction loss, deposits gradients of the loss w.r.t. for each parameter that has requires_grad=True\n",
        "    optimizer.step()    # updates the parameter values, \"learns\"\n",
        "    optimizer.zero_grad()       # zeros the grads because it is a dynamic graph\n",
        "\n"
      ],
      "metadata": {
        "id": "d9UtkukWtlz3"
      },
      "execution_count": 118,
      "outputs": []
    },
    {
      "cell_type": "code",
      "source": [
        "def test():\n",
        "\n",
        "  # set module to testing mode, train does the opposite\n",
        "  model.eval()\n",
        "\n",
        "  # used to turn off gradient calculations, context manager\n",
        "  with torch.no_grad():\n",
        "    pass"
      ],
      "metadata": {
        "id": "QWIRgUUwQkNs"
      },
      "execution_count": null,
      "outputs": []
    },
    {
      "cell_type": "code",
      "source": [
        "# set cross entropy loss and Adam optimizer functions\n",
        "loss_fn = nn.CrossEntropyLoss()     # THIS NEEDS TARGET VALUES, NOT ONE-HOT ENCODING\n",
        "optimizer = torch.optim.Adam(model.parameters(), lr = 1e-3)"
      ],
      "metadata": {
        "id": "EDZy9L4bskv4"
      },
      "execution_count": 120,
      "outputs": []
    },
    {
      "cell_type": "code",
      "source": [
        "epochs = 5\n",
        "for e in range(epochs):\n",
        "  train(train_loader, model, loss_fn, optimizer)\n"
      ],
      "metadata": {
        "colab": {
          "base_uri": "https://localhost:8080/"
        },
        "id": "k0SE_txDFhxD",
        "outputId": "f7ea2a2c-b71e-4c27-bfaf-9bf417ad2bc6"
      },
      "execution_count": 121,
      "outputs": [
        {
          "output_type": "stream",
          "name": "stdout",
          "text": [
            "Progress: 0, total accuracy: 0.203125\n",
            "Progress: 3200, total accuracy: 0.3128063678741455\n",
            "Progress: 6400, total accuracy: 0.34514233469963074\n",
            "Progress: 9600, total accuracy: 0.3686879277229309\n",
            "Progress: 12800, total accuracy: 0.38627177476882935\n",
            "Progress: 16000, total accuracy: 0.40214142203330994\n",
            "Progress: 19200, total accuracy: 0.41445183753967285\n",
            "Progress: 22400, total accuracy: 0.4283742904663086\n",
            "Progress: 25600, total accuracy: 0.44217580556869507\n",
            "Progress: 28800, total accuracy: 0.4525013864040375\n",
            "Progress: 32000, total accuracy: 0.4610154628753662\n",
            "Progress: 35200, total accuracy: 0.46645304560661316\n",
            "Progress: 38400, total accuracy: 0.4724677503108978\n",
            "Progress: 41600, total accuracy: 0.47806259989738464\n",
            "Progress: 44800, total accuracy: 0.4829261898994446\n",
            "Progress: 48000, total accuracy: 0.4881408214569092\n",
            "Progress: 0, total accuracy: 0.609375\n",
            "Progress: 3200, total accuracy: 0.6011029481887817\n",
            "Progress: 6400, total accuracy: 0.5943688154220581\n",
            "Progress: 9600, total accuracy: 0.5880587697029114\n",
            "Progress: 12800, total accuracy: 0.5868314504623413\n",
            "Progress: 16000, total accuracy: 0.5897036790847778\n",
            "Progress: 19200, total accuracy: 0.592140793800354\n",
            "Progress: 22400, total accuracy: 0.5889868140220642\n",
            "Progress: 25600, total accuracy: 0.588606595993042\n",
            "Progress: 28800, total accuracy: 0.5892807841300964\n",
            "Progress: 32000, total accuracy: 0.5881986021995544\n",
            "Progress: 35200, total accuracy: 0.5901769399642944\n",
            "Progress: 38400, total accuracy: 0.5888622999191284\n",
            "Progress: 41600, total accuracy: 0.5898377299308777\n",
            "Progress: 44800, total accuracy: 0.5905402898788452\n",
            "Progress: 48000, total accuracy: 0.5911284685134888\n",
            "Progress: 0, total accuracy: 0.734375\n",
            "Progress: 3200, total accuracy: 0.6191789507865906\n",
            "Progress: 6400, total accuracy: 0.6203588843345642\n",
            "Progress: 9600, total accuracy: 0.6246895790100098\n",
            "Progress: 12800, total accuracy: 0.6302860975265503\n",
            "Progress: 16000, total accuracy: 0.6286105513572693\n",
            "Progress: 19200, total accuracy: 0.6299833655357361\n",
            "Progress: 22400, total accuracy: 0.6314547657966614\n",
            "Progress: 25600, total accuracy: 0.6318578720092773\n",
            "Progress: 28800, total accuracy: 0.6315479278564453\n",
            "Progress: 32000, total accuracy: 0.6308009028434753\n",
            "Progress: 35200, total accuracy: 0.6313804388046265\n",
            "Progress: 38400, total accuracy: 0.6303556561470032\n",
            "Progress: 41600, total accuracy: 0.6302323341369629\n",
            "Progress: 44800, total accuracy: 0.6307730078697205\n",
            "Progress: 48000, total accuracy: 0.6306383013725281\n",
            "Progress: 0, total accuracy: 0.734375\n",
            "Progress: 3200, total accuracy: 0.6467524766921997\n",
            "Progress: 6400, total accuracy: 0.6458848714828491\n",
            "Progress: 9600, total accuracy: 0.6467301249504089\n",
            "Progress: 12800, total accuracy: 0.6484763622283936\n",
            "Progress: 16000, total accuracy: 0.6469123363494873\n",
            "Progress: 19200, total accuracy: 0.6473733186721802\n",
            "Progress: 22400, total accuracy: 0.6456997990608215\n",
            "Progress: 25600, total accuracy: 0.64646977186203\n",
            "Progress: 28800, total accuracy: 0.6463761329650879\n",
            "Progress: 32000, total accuracy: 0.6433383226394653\n",
            "Progress: 35200, total accuracy: 0.6425249576568604\n",
            "Progress: 38400, total accuracy: 0.6433548331260681\n",
            "Progress: 41600, total accuracy: 0.643697202205658\n",
            "Progress: 44800, total accuracy: 0.644102156162262\n",
            "Progress: 48000, total accuracy: 0.6439539194107056\n",
            "Progress: 0, total accuracy: 0.609375\n",
            "Progress: 3200, total accuracy: 0.641237735748291\n",
            "Progress: 6400, total accuracy: 0.6522276997566223\n",
            "Progress: 9600, total accuracy: 0.6514900922775269\n",
            "Progress: 12800, total accuracy: 0.6505752205848694\n",
            "Progress: 16000, total accuracy: 0.6532619595527649\n",
            "Progress: 19200, total accuracy: 0.6523048281669617\n",
            "Progress: 22400, total accuracy: 0.6523771286010742\n",
            "Progress: 25600, total accuracy: 0.6531327962875366\n",
            "Progress: 28800, total accuracy: 0.6554531455039978\n",
            "Progress: 32000, total accuracy: 0.6560004949569702\n",
            "Progress: 35200, total accuracy: 0.6561365723609924\n",
            "Progress: 38400, total accuracy: 0.65721195936203\n",
            "Progress: 41600, total accuracy: 0.658074140548706\n",
            "Progress: 44800, total accuracy: 0.6579886078834534\n",
            "Progress: 48000, total accuracy: 0.6577895879745483\n"
          ]
        }
      ]
    },
    {
      "cell_type": "code",
      "source": [
        "import torchvision.models as models\n",
        "# create instance of a model\n",
        "vgg = models.vgg16()\n",
        "print(vgg)\n",
        "# torch.save(vgg.state_dict())\n",
        "# vgg.load_state_dict(torch.load('model_weights.pth'))\n",
        "# model.eval()"
      ],
      "metadata": {
        "colab": {
          "base_uri": "https://localhost:8080/"
        },
        "id": "DP9QgLyna63x",
        "outputId": "ea78d568-4b57-413e-96f2-870514bb56b0"
      },
      "execution_count": null,
      "outputs": [
        {
          "output_type": "stream",
          "name": "stdout",
          "text": [
            "VGG(\n",
            "  (features): Sequential(\n",
            "    (0): Conv2d(3, 64, kernel_size=(3, 3), stride=(1, 1), padding=(1, 1))\n",
            "    (1): ReLU(inplace=True)\n",
            "    (2): Conv2d(64, 64, kernel_size=(3, 3), stride=(1, 1), padding=(1, 1))\n",
            "    (3): ReLU(inplace=True)\n",
            "    (4): MaxPool2d(kernel_size=2, stride=2, padding=0, dilation=1, ceil_mode=False)\n",
            "    (5): Conv2d(64, 128, kernel_size=(3, 3), stride=(1, 1), padding=(1, 1))\n",
            "    (6): ReLU(inplace=True)\n",
            "    (7): Conv2d(128, 128, kernel_size=(3, 3), stride=(1, 1), padding=(1, 1))\n",
            "    (8): ReLU(inplace=True)\n",
            "    (9): MaxPool2d(kernel_size=2, stride=2, padding=0, dilation=1, ceil_mode=False)\n",
            "    (10): Conv2d(128, 256, kernel_size=(3, 3), stride=(1, 1), padding=(1, 1))\n",
            "    (11): ReLU(inplace=True)\n",
            "    (12): Conv2d(256, 256, kernel_size=(3, 3), stride=(1, 1), padding=(1, 1))\n",
            "    (13): ReLU(inplace=True)\n",
            "    (14): Conv2d(256, 256, kernel_size=(3, 3), stride=(1, 1), padding=(1, 1))\n",
            "    (15): ReLU(inplace=True)\n",
            "    (16): MaxPool2d(kernel_size=2, stride=2, padding=0, dilation=1, ceil_mode=False)\n",
            "    (17): Conv2d(256, 512, kernel_size=(3, 3), stride=(1, 1), padding=(1, 1))\n",
            "    (18): ReLU(inplace=True)\n",
            "    (19): Conv2d(512, 512, kernel_size=(3, 3), stride=(1, 1), padding=(1, 1))\n",
            "    (20): ReLU(inplace=True)\n",
            "    (21): Conv2d(512, 512, kernel_size=(3, 3), stride=(1, 1), padding=(1, 1))\n",
            "    (22): ReLU(inplace=True)\n",
            "    (23): MaxPool2d(kernel_size=2, stride=2, padding=0, dilation=1, ceil_mode=False)\n",
            "    (24): Conv2d(512, 512, kernel_size=(3, 3), stride=(1, 1), padding=(1, 1))\n",
            "    (25): ReLU(inplace=True)\n",
            "    (26): Conv2d(512, 512, kernel_size=(3, 3), stride=(1, 1), padding=(1, 1))\n",
            "    (27): ReLU(inplace=True)\n",
            "    (28): Conv2d(512, 512, kernel_size=(3, 3), stride=(1, 1), padding=(1, 1))\n",
            "    (29): ReLU(inplace=True)\n",
            "    (30): MaxPool2d(kernel_size=2, stride=2, padding=0, dilation=1, ceil_mode=False)\n",
            "  )\n",
            "  (avgpool): AdaptiveAvgPool2d(output_size=(7, 7))\n",
            "  (classifier): Sequential(\n",
            "    (0): Linear(in_features=25088, out_features=4096, bias=True)\n",
            "    (1): ReLU(inplace=True)\n",
            "    (2): Dropout(p=0.5, inplace=False)\n",
            "    (3): Linear(in_features=4096, out_features=4096, bias=True)\n",
            "    (4): ReLU(inplace=True)\n",
            "    (5): Dropout(p=0.5, inplace=False)\n",
            "    (6): Linear(in_features=4096, out_features=1000, bias=True)\n",
            "  )\n",
            ")\n"
          ]
        }
      ]
    }
  ]
}