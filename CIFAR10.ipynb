{
  "nbformat": 4,
  "nbformat_minor": 0,
  "metadata": {
    "colab": {
      "provenance": [],
      "authorship_tag": "ABX9TyM6OeAaol6NJPOSLv0v+sZX",
      "include_colab_link": true
    },
    "kernelspec": {
      "name": "python3",
      "display_name": "Python 3"
    },
    "language_info": {
      "name": "python"
    }
  },
  "cells": [
    {
      "cell_type": "markdown",
      "metadata": {
        "id": "view-in-github",
        "colab_type": "text"
      },
      "source": [
        "<a href=\"https://colab.research.google.com/github/step-cheng/CIFAR10-pytorch/blob/colab/CIFAR10.ipynb\" target=\"_parent\"><img src=\"https://colab.research.google.com/assets/colab-badge.svg\" alt=\"Open In Colab\"/></a>"
      ]
    },
    {
      "cell_type": "code",
      "source": [
        "# !pip install torch>=2.0.1\n",
        "# !pip install torchvision\n"
      ],
      "metadata": {
        "id": "cxi4yrAUw6Xu"
      },
      "execution_count": null,
      "outputs": []
    },
    {
      "cell_type": "code",
      "source": [
        "!git clone https://github.com/step-cheng/CIFAR10-pytorch.git\n"
      ],
      "metadata": {
        "id": "iMWh0HmVil-K",
        "colab": {
          "base_uri": "https://localhost:8080/"
        },
        "outputId": "acce13f8-57f7-4eff-bdb9-e9534c4b60f3"
      },
      "execution_count": null,
      "outputs": [
        {
          "output_type": "stream",
          "name": "stdout",
          "text": [
            "Cloning into 'CIFAR10-pytorch'...\n",
            "remote: Enumerating objects: 26, done.\u001b[K\n",
            "remote: Counting objects:   3% (1/26)\u001b[K\rremote: Counting objects:   7% (2/26)\u001b[K\rremote: Counting objects:  11% (3/26)\u001b[K\rremote: Counting objects:  15% (4/26)\u001b[K\rremote: Counting objects:  19% (5/26)\u001b[K\rremote: Counting objects:  23% (6/26)\u001b[K\rremote: Counting objects:  26% (7/26)\u001b[K\rremote: Counting objects:  30% (8/26)\u001b[K\rremote: Counting objects:  34% (9/26)\u001b[K\rremote: Counting objects:  38% (10/26)\u001b[K\rremote: Counting objects:  42% (11/26)\u001b[K\rremote: Counting objects:  46% (12/26)\u001b[K\rremote: Counting objects:  50% (13/26)\u001b[K\rremote: Counting objects:  53% (14/26)\u001b[K\rremote: Counting objects:  57% (15/26)\u001b[K\rremote: Counting objects:  61% (16/26)\u001b[K\rremote: Counting objects:  65% (17/26)\u001b[K\rremote: Counting objects:  69% (18/26)\u001b[K\rremote: Counting objects:  73% (19/26)\u001b[K\rremote: Counting objects:  76% (20/26)\u001b[K\rremote: Counting objects:  80% (21/26)\u001b[K\rremote: Counting objects:  84% (22/26)\u001b[K\rremote: Counting objects:  88% (23/26)\u001b[K\rremote: Counting objects:  92% (24/26)\u001b[K\rremote: Counting objects:  96% (25/26)\u001b[K\rremote: Counting objects: 100% (26/26)\u001b[K\rremote: Counting objects: 100% (26/26), done.\u001b[K\n",
            "remote: Compressing objects:   4% (1/23)\u001b[K\rremote: Compressing objects:   8% (2/23)\u001b[K\rremote: Compressing objects:  13% (3/23)\u001b[K\rremote: Compressing objects:  17% (4/23)\u001b[K\rremote: Compressing objects:  21% (5/23)\u001b[K\rremote: Compressing objects:  26% (6/23)\u001b[K\rremote: Compressing objects:  30% (7/23)\u001b[K\rremote: Compressing objects:  34% (8/23)\u001b[K\rremote: Compressing objects:  39% (9/23)\u001b[K\rremote: Compressing objects:  43% (10/23)\u001b[K\rremote: Compressing objects:  47% (11/23)\u001b[K\rremote: Compressing objects:  52% (12/23)\u001b[K\rremote: Compressing objects:  56% (13/23)\u001b[K\rremote: Compressing objects:  60% (14/23)\u001b[K\rremote: Compressing objects:  65% (15/23)\u001b[K\rremote: Compressing objects:  69% (16/23)\u001b[K\rremote: Compressing objects:  73% (17/23)\u001b[K\rremote: Compressing objects:  78% (18/23)\u001b[K\rremote: Compressing objects:  82% (19/23)\u001b[K\rremote: Compressing objects:  86% (20/23)\u001b[K\rremote: Compressing objects:  91% (21/23)\u001b[K\rremote: Compressing objects:  95% (22/23)\u001b[K\rremote: Compressing objects: 100% (23/23)\u001b[K\rremote: Compressing objects: 100% (23/23), done.\u001b[K\n",
            "remote: Total 26 (delta 5), reused 16 (delta 1), pack-reused 0\u001b[K\n",
            "Receiving objects:   3% (1/26)\rReceiving objects:   7% (2/26)\rReceiving objects:  11% (3/26)\rReceiving objects:  15% (4/26)\rReceiving objects:  19% (5/26)\rReceiving objects:  23% (6/26)\rReceiving objects:  26% (7/26)\rReceiving objects:  30% (8/26)\rReceiving objects:  34% (9/26)\rReceiving objects:  38% (10/26)\rReceiving objects:  42% (11/26)\rReceiving objects:  46% (12/26)\rReceiving objects:  50% (13/26)\rReceiving objects:  53% (14/26)\rReceiving objects:  57% (15/26)\rReceiving objects:  61% (16/26)\rReceiving objects:  65% (17/26)\rReceiving objects:  69% (18/26)\rReceiving objects:  73% (19/26)\rReceiving objects:  76% (20/26)\rReceiving objects:  80% (21/26)\rReceiving objects:  84% (22/26)\rReceiving objects:  88% (23/26)\rReceiving objects:  92% (24/26)\rReceiving objects:  96% (25/26)\rReceiving objects: 100% (26/26)\rReceiving objects: 100% (26/26), 12.30 KiB | 6.15 MiB/s, done.\n",
            "Resolving deltas:   0% (0/5)\rResolving deltas:  20% (1/5)\rResolving deltas:  40% (2/5)\rResolving deltas:  60% (3/5)\rResolving deltas:  80% (4/5)\rResolving deltas: 100% (5/5)\rResolving deltas: 100% (5/5), done.\n"
          ]
        }
      ]
    },
    {
      "cell_type": "code",
      "source": [
        "# # Run this whenever you want to get updated models folder\n",
        "# %cd CIFAR10-pytorch\n",
        "# !git pull\n",
        "# %cd .."
      ],
      "metadata": {
        "id": "s-RkuDnC0V6M",
        "colab": {
          "base_uri": "https://localhost:8080/"
        },
        "outputId": "e0e34b7d-0722-4e1a-9d59-48a3e9d9f5e9"
      },
      "execution_count": null,
      "outputs": [
        {
          "output_type": "stream",
          "name": "stdout",
          "text": [
            "/content\n"
          ]
        }
      ]
    },
    {
      "cell_type": "code",
      "execution_count": null,
      "metadata": {
        "id": "PoT6Z9S0m9Uk"
      },
      "outputs": [],
      "source": [
        "import torch\n",
        "from torch import nn\n",
        "import torchvision\n",
        "from torchvision import datasets, transforms\n",
        "import matplotlib.pyplot as plt\n",
        "import numpy as np\n",
        "from datetime import datetime\n"
      ]
    },
    {
      "cell_type": "code",
      "source": [
        "import sys\n",
        "sys.path.insert(0,'/content/CIFAR10-pytorch')\n",
        "from models import *"
      ],
      "metadata": {
        "id": "TTFGx7nMqUv4"
      },
      "execution_count": null,
      "outputs": []
    },
    {
      "cell_type": "code",
      "source": [
        "# 50000 train images\n",
        "train_data = datasets.CIFAR10(root='./', train=True, download=False, transform=transforms.ToTensor(),\n",
        "                              target_transform=transforms.Lambda(lambda y : torch.zeros(10,dtype=torch.float).scatter(dim=0,\n",
        "                                                                                                                       index=torch.tensor(y),\n",
        "                                                                                                                       value=1)))\n",
        "# DataLoader wraps an iterable over dataset for automatic batching, sampling, and dataloading\n",
        "train_loader = torch.utils.data.DataLoader(train_data, batch_size=64, shuffle=True)\n",
        "\n",
        "# 10000 test images\n",
        "test_data = datasets.CIFAR10(root='./', train=False, download=False, transform=transforms.ToTensor(),\n",
        "                             target_transform=transforms.Lambda(lambda y : torch.zeros(10,dtype=torch.float).scatter(dim=0,\n",
        "                                                                                                                       index=torch.tensor(y),\n",
        "                                                                                                                       value=1)))\n",
        "test_loader = torch.utils.data.DataLoader(test_data, batch_size=64, shuffle=True)\n",
        "\n",
        "classes = {\n",
        "    0 : 'plane',    1 : 'car',    2 : 'bird',   3 : 'cat',    4 : 'deer',\n",
        "    5 : 'dog',      6 : 'frog',   7 : 'horse',  8 : 'ship',   9 : 'truck'\n",
        "}"
      ],
      "metadata": {
        "id": "rl6hempmsxdB"
      },
      "execution_count": null,
      "outputs": []
    },
    {
      "cell_type": "code",
      "source": [
        "# img, label = training_data[1]\n",
        "train_iter = iter(train_loader)\n",
        "# img, label = next(train_iter)\n",
        "# print(img.shape)\n",
        "# print(label.shape)\n",
        "\n",
        "# shows image tensor\n",
        "def show(tens, label):\n",
        "  # make_grid makes a grid of images from a batch of tensors BxCxHxW\n",
        "  label = torch.argmax(label,dim=1)\n",
        "  print(label)\n",
        "  img = torchvision.utils.make_grid(tens) # flattens B dimension to make a grid\n",
        "  np_img = img.numpy()\n",
        "  plt.imshow(np.transpose(np_img, (1,2,0)))     # seems each image is spaced by 2 pixels, channels goes last when plotting\n",
        "  # title = classes[label]\n",
        "  title = ' '.join([classes[t.item()] for t in label])\n",
        "  plt.title(title)\n",
        "\n",
        "# show(img, label)\n"
      ],
      "metadata": {
        "id": "IN42zO8090Eq"
      },
      "execution_count": null,
      "outputs": []
    },
    {
      "cell_type": "code",
      "source": [
        "# # Make a class for your model\n",
        "\n",
        "# # nn is composed of a bunch of subclasses, myNN inherits from nn.Module\n",
        "# # within a subclass of torch.nn.Module, it's assumed we want to track gradients on the layer's weights\n",
        "# class myNN(nn.Module):\n",
        "\n",
        "#   def __init__(self):\n",
        "#     super().__init__()\n",
        "#     self.flat = nn.Flatten()\n",
        "\n",
        "#     # Sequential class stores modules that will be passed sequentially through constructor\n",
        "#     # input: 64x3x32x32;   output: 64x16x8x8\n",
        "#     self.conv_pool_stack = nn.Sequential(\n",
        "#       nn.Conv2d(3,16,kernel_size=3,padding=1, bias=False),\n",
        "#       nn.ReLU(),\n",
        "#       nn.BatchNorm2d(16),\n",
        "#       nn.Conv2d(16,16,kernel_size=3,padding=1, bias=False),\n",
        "#       nn.ReLU(),\n",
        "#       nn.MaxPool2d(2,stride=2),\n",
        "#       nn.BatchNorm2d(16),\n",
        "#       nn.Conv2d(16,32,kernel_size=3,padding=1,bias=False),\n",
        "#       nn.ReLU(),\n",
        "#       nn.BatchNorm2d(32),\n",
        "#       nn.Conv2d(32,32,kernel_size=3,padding=1,bias=False),\n",
        "#       nn.ReLU(),\n",
        "#       nn.BatchNorm2d(32),\n",
        "#       nn.MaxPool2d(2,stride=2),\n",
        "#       nn.BatchNorm2d(32)\n",
        "#     )\n",
        "\n",
        "#     # input: 64x32x8x8;    output: 16x10\n",
        "#     self.linear_relu_stack = nn.Sequential(\n",
        "#       self.flat,           # Flatten class flattens starting at dimension default 1 and ending at dimension default -1 --> 16x2048\n",
        "#       nn.Linear(2048, 512, bias=True),\n",
        "#       nn.ReLU(),\n",
        "#       nn.Linear(512, 64, bias=True),\n",
        "#       nn.ReLU(),\n",
        "#       nn.Linear(64, 10, bias=True),\n",
        "#       nn.Softmax(dim=1)\n",
        "#     )\n",
        "\n",
        "#   def forward(self,x):\n",
        "#     after_conv = self.conv_pool_stack(x)\n",
        "#     logits = self.linear_relu_stack(after_conv)\n",
        "#     return logits\n",
        "\n",
        "\n",
        "# # to() creates an instance of the network and moves it to a device\n",
        "# # model = myNN().to(device)\n",
        "# # print(model)\n",
        "\n"
      ],
      "metadata": {
        "id": "EmsTIb9xtFuL"
      },
      "execution_count": null,
      "outputs": []
    },
    {
      "cell_type": "code",
      "source": [
        "# # Demonstration of loss.backward() and optimizer.step()\n",
        "\n",
        "# print(model.conv_pool_stack[0].weight[0,0])\n",
        "# loss_fn = nn.CrossEntropyLoss()\n",
        "# optimizer = torch.optim.SGD(model.parameters(),lr=0.1)\n",
        "\n",
        "# input = torch.randn((4,3,32,32),requires_grad=False)\n",
        "# target = torch.randint(0,10,size=(4,))\n",
        "# logits = model(input)\n",
        "# loss = loss_fn(logits,target)\n",
        "# print(loss)\n",
        "# loss.backward()\n",
        "# print(model.conv_pool_stack[0].weight[0,0])\n",
        "# print(model.conv_pool_stack[0].weight.grad[0,0])\n",
        "# optimizer.step()\n",
        "# print(model.conv_pool_stack[0].weight[0,0])\n",
        "# print(model.conv_pool_stack[0].weight.grad[0,0])\n",
        "# optimizer.zero_grad()"
      ],
      "metadata": {
        "id": "LOYylidu55o6"
      },
      "execution_count": null,
      "outputs": []
    },
    {
      "cell_type": "code",
      "source": [
        "def preprocess(x):\n",
        "  # find std and mean per channel\n",
        "  x_stds = torch.sqrt(torch.var(x, dim=(0,2,3)))\n",
        "  x_means = torch.sum(x, dim=(0,2,3)) / (x.shape[0]*x.shape[2]*x.shape[3])\n",
        "\n",
        "  for channel in range(3):\n",
        "    x[:,channel,:,:] -= x_means[channel]\n",
        "    x[:,channel,:,:] /= x_stds[channel]\n",
        "  return x"
      ],
      "metadata": {
        "id": "8rckwQjk9RPv"
      },
      "execution_count": null,
      "outputs": []
    },
    {
      "cell_type": "code",
      "source": [
        "def accuracy(pred,y):\n",
        "  guesses = torch.argmax(pred,dim=1)\n",
        "  matches = sum(guesses==y).item()\n",
        "  return matches/torch.numel(y), matches\n"
      ],
      "metadata": {
        "id": "c3q0ZeYhekEr"
      },
      "execution_count": null,
      "outputs": []
    },
    {
      "cell_type": "code",
      "source": [
        "def train(dataloader, model, device, loss_fn, optimizer):\n",
        "  # sets the module to training mode, eval does the opposite\n",
        "  model.train()\n",
        "\n",
        "  accs = []\n",
        "  matches = 0\n",
        "\n",
        "  for batch, (X, y) in enumerate(dataloader):\n",
        "    imgs, labels = X.to(device), y.to(device)\n",
        "\n",
        "    # do data preprocessing\n",
        "    imgs = preprocess(imgs)\n",
        "    # do not call model.foward(X), doing model(X) calls the __call__() function which does a few extra hooks...\n",
        "    pred = model(imgs)\n",
        "    loss = loss_fn(pred, torch.argmax(labels,dim=1))\n",
        "    acc, m = accuracy(pred,torch.argmax(labels,dim=1))\n",
        "    matches += m\n",
        "\n",
        "    if batch % 50 == 0:\n",
        "      accs.append(acc)\n",
        "      print(f\"Progress: {(batch+1) * len(X)}, current accuracy: {m/len(X)}\")\n",
        "\n",
        "    # Backpropagation\n",
        "    loss.backward()     # backpropagates prediction loss, deposits gradients of the loss w.r.t. for each parameter that has requires_grad=True\n",
        "    optimizer.step()    # updates the parameter values, \"learns\"\n",
        "    optimizer.zero_grad()       # zeros the grads because it is a dynamic graph\n",
        "\n",
        "  print(f\"Epoch Accuracy: {matches/50000}\")\n",
        "\n"
      ],
      "metadata": {
        "id": "d9UtkukWtlz3"
      },
      "execution_count": null,
      "outputs": []
    },
    {
      "cell_type": "code",
      "source": [
        "def test(dataloader, model, device):\n",
        "\n",
        "  # set module to testing mode, train does the opposite\n",
        "  model.eval()\n",
        "\n",
        "  accs = []\n",
        "  matches = 0\n",
        "\n",
        "  # used to turn off gradient calculations\n",
        "  with torch.no_grad():\n",
        "    for batch, (X,y) in enumerate(dataloader):\n",
        "      imgs, labels = X.to(device), y.to(device)\n",
        "\n",
        "      pred = model(imgs)\n",
        "      acc, m = accuracy(pred,torch.argmax(labels,dim=1))\n",
        "      matches += m\n",
        "\n",
        "      if batch % 50 == 0:\n",
        "        print(f\"Progress: {(batch+1)*len(X)}, current accuracy: {m/len(X)}\")\n",
        "        accs.append(acc)\n",
        "\n",
        "  print(f\"Final Accuracy: {matches/10000}\")"
      ],
      "metadata": {
        "id": "QWIRgUUwQkNs"
      },
      "execution_count": null,
      "outputs": []
    },
    {
      "cell_type": "code",
      "source": [
        "device = \"cuda\" if torch.cuda.is_available() else \"cpu\"\n",
        "\n",
        "model = mymodel.myNN().to(device)\n",
        "\n",
        "# set cross entropy loss and Adam optimizer functions\n",
        "loss_fn = nn.CrossEntropyLoss()     # THIS NEEDS TARGET VALUES, NOT ONE-HOT ENCODING\n",
        "optimizer = torch.optim.Adam(model.parameters(), lr=5e-4)"
      ],
      "metadata": {
        "id": "EDZy9L4bskv4"
      },
      "execution_count": null,
      "outputs": []
    },
    {
      "cell_type": "code",
      "source": [
        "epochs = 5\n",
        "start = datetime.now()\n",
        "for e in range(epochs):\n",
        "  train(train_loader, model, device, loss_fn, optimizer)\n",
        "elapse = datetime.now() - start\n",
        "print(\"Training Time: \", elapse)\n"
      ],
      "metadata": {
        "colab": {
          "base_uri": "https://localhost:8080/"
        },
        "id": "k0SE_txDFhxD",
        "outputId": "b7359bf6-a0b7-49ea-9b64-827b8f4760e6"
      },
      "execution_count": null,
      "outputs": [
        {
          "output_type": "stream",
          "name": "stdout",
          "text": [
            "Progress: 0, current accuracy: 0.078125\n",
            "Progress: 3200, current accuracy: 0.34375\n",
            "Progress: 6400, current accuracy: 0.46875\n",
            "Progress: 9600, current accuracy: 0.40625\n",
            "Progress: 12800, current accuracy: 0.515625\n",
            "Progress: 16000, current accuracy: 0.46875\n",
            "Progress: 19200, current accuracy: 0.546875\n",
            "Progress: 22400, current accuracy: 0.5625\n",
            "Progress: 25600, current accuracy: 0.59375\n",
            "Progress: 28800, current accuracy: 0.421875\n",
            "Progress: 32000, current accuracy: 0.53125\n",
            "Progress: 35200, current accuracy: 0.625\n",
            "Progress: 38400, current accuracy: 0.484375\n",
            "Progress: 41600, current accuracy: 0.5\n",
            "Progress: 44800, current accuracy: 0.5\n",
            "Progress: 48000, current accuracy: 0.6875\n",
            "Epoch Accuracy: 0.5127400159835815\n",
            "Progress: 0, current accuracy: 0.546875\n",
            "Progress: 3200, current accuracy: 0.671875\n",
            "Progress: 6400, current accuracy: 0.5\n",
            "Progress: 9600, current accuracy: 0.625\n",
            "Progress: 12800, current accuracy: 0.640625\n",
            "Progress: 16000, current accuracy: 0.46875\n",
            "Progress: 19200, current accuracy: 0.6875\n",
            "Progress: 22400, current accuracy: 0.671875\n",
            "Progress: 25600, current accuracy: 0.609375\n",
            "Progress: 28800, current accuracy: 0.59375\n",
            "Progress: 32000, current accuracy: 0.703125\n",
            "Progress: 35200, current accuracy: 0.65625\n",
            "Progress: 38400, current accuracy: 0.515625\n",
            "Progress: 41600, current accuracy: 0.5\n",
            "Progress: 44800, current accuracy: 0.671875\n",
            "Progress: 48000, current accuracy: 0.703125\n",
            "Epoch Accuracy: 0.6191800236701965\n",
            "Progress: 0, current accuracy: 0.671875\n",
            "Progress: 3200, current accuracy: 0.625\n",
            "Progress: 6400, current accuracy: 0.703125\n",
            "Progress: 9600, current accuracy: 0.671875\n",
            "Progress: 12800, current accuracy: 0.78125\n",
            "Progress: 16000, current accuracy: 0.640625\n",
            "Progress: 19200, current accuracy: 0.625\n",
            "Progress: 22400, current accuracy: 0.671875\n",
            "Progress: 25600, current accuracy: 0.65625\n",
            "Progress: 28800, current accuracy: 0.765625\n",
            "Progress: 32000, current accuracy: 0.6875\n",
            "Progress: 35200, current accuracy: 0.734375\n",
            "Progress: 38400, current accuracy: 0.71875\n",
            "Progress: 41600, current accuracy: 0.6875\n",
            "Progress: 44800, current accuracy: 0.640625\n",
            "Progress: 48000, current accuracy: 0.65625\n",
            "Epoch Accuracy: 0.6708800196647644\n",
            "Progress: 0, current accuracy: 0.703125\n",
            "Progress: 3200, current accuracy: 0.765625\n",
            "Progress: 6400, current accuracy: 0.703125\n",
            "Progress: 9600, current accuracy: 0.6875\n",
            "Progress: 12800, current accuracy: 0.703125\n",
            "Progress: 16000, current accuracy: 0.703125\n",
            "Progress: 19200, current accuracy: 0.734375\n",
            "Progress: 22400, current accuracy: 0.703125\n",
            "Progress: 25600, current accuracy: 0.6875\n",
            "Progress: 28800, current accuracy: 0.71875\n",
            "Progress: 32000, current accuracy: 0.65625\n",
            "Progress: 35200, current accuracy: 0.734375\n",
            "Progress: 38400, current accuracy: 0.703125\n",
            "Progress: 41600, current accuracy: 0.59375\n",
            "Progress: 44800, current accuracy: 0.6875\n",
            "Progress: 48000, current accuracy: 0.65625\n",
            "Epoch Accuracy: 0.7056800127029419\n",
            "Progress: 0, current accuracy: 0.796875\n",
            "Progress: 3200, current accuracy: 0.78125\n",
            "Progress: 6400, current accuracy: 0.765625\n",
            "Progress: 9600, current accuracy: 0.75\n",
            "Progress: 12800, current accuracy: 0.734375\n",
            "Progress: 16000, current accuracy: 0.78125\n",
            "Progress: 19200, current accuracy: 0.703125\n",
            "Progress: 22400, current accuracy: 0.78125\n",
            "Progress: 25600, current accuracy: 0.71875\n",
            "Progress: 28800, current accuracy: 0.78125\n",
            "Progress: 32000, current accuracy: 0.78125\n",
            "Progress: 35200, current accuracy: 0.765625\n",
            "Progress: 38400, current accuracy: 0.625\n",
            "Progress: 41600, current accuracy: 0.625\n",
            "Progress: 44800, current accuracy: 0.625\n",
            "Progress: 48000, current accuracy: 0.75\n",
            "Epoch Accuracy: 0.7339800000190735\n",
            "Training Time:  0:07:32.991242\n"
          ]
        }
      ]
    },
    {
      "cell_type": "code",
      "source": [
        "test(test_loader,model,device)"
      ],
      "metadata": {
        "colab": {
          "base_uri": "https://localhost:8080/"
        },
        "id": "XQvdJQ4hDpU1",
        "outputId": "2b0c3f7e-5703-4333-b67a-88883f925d9c"
      },
      "execution_count": null,
      "outputs": [
        {
          "output_type": "stream",
          "name": "stdout",
          "text": [
            "Progress: 64, current accuracy: 0.28125\n",
            "Progress: 3264, current accuracy: 0.25\n",
            "Progress: 6464, current accuracy: 0.25\n",
            "Progress: 9664, current accuracy: 0.328125\n",
            "Final Accuracy: 0.2621\n"
          ]
        }
      ]
    }
  ]
}