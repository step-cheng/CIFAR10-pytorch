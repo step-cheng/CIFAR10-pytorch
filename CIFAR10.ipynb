{
  "nbformat": 4,
  "nbformat_minor": 0,
  "metadata": {
    "colab": {
      "provenance": [],
      "gpuType": "T4",
      "authorship_tag": "ABX9TyOg+FfVVcMC3OVBp+AEPLGJ",
      "include_colab_link": true
    },
    "kernelspec": {
      "name": "python3",
      "display_name": "Python 3"
    },
    "language_info": {
      "name": "python"
    },
    "accelerator": "GPU"
  },
  "cells": [
    {
      "cell_type": "markdown",
      "metadata": {
        "id": "view-in-github",
        "colab_type": "text"
      },
      "source": [
        "<a href=\"https://colab.research.google.com/github/step-cheng/CIFAR10-pytorch/blob/main/CIFAR10.ipynb\" target=\"_parent\"><img src=\"https://colab.research.google.com/assets/colab-badge.svg\" alt=\"Open In Colab\"/></a>"
      ]
    },
    {
      "cell_type": "code",
      "source": [
        "# !pip install torch>=2.0.1\n",
        "# !pip install torchvision\n",
        "!pip install -Uqq ipdb"
      ],
      "metadata": {
        "id": "cxi4yrAUw6Xu",
        "colab": {
          "base_uri": "https://localhost:8080/"
        },
        "outputId": "75244c9d-7358-43af-db83-e1edeccdadec"
      },
      "execution_count": 4,
      "outputs": [
        {
          "output_type": "stream",
          "name": "stdout",
          "text": [
            "\u001b[?25l     \u001b[90m━━━━━━━━━━━━━━━━━━━━━━━━━━━━━━━━━━━━━━━━\u001b[0m \u001b[32m0.0/1.6 MB\u001b[0m \u001b[31m?\u001b[0m eta \u001b[36m-:--:--\u001b[0m\r\u001b[2K     \u001b[91m━━━\u001b[0m\u001b[90m╺\u001b[0m\u001b[90m━━━━━━━━━━━━━━━━━━━━━━━━━━━━━━━━━━━━\u001b[0m \u001b[32m0.1/1.6 MB\u001b[0m \u001b[31m3.7 MB/s\u001b[0m eta \u001b[36m0:00:01\u001b[0m\r\u001b[2K     \u001b[91m━━━━━━━━━━━\u001b[0m\u001b[91m╸\u001b[0m\u001b[90m━━━━━━━━━━━━━━━━━━━━━━━━━━━━\u001b[0m \u001b[32m0.5/1.6 MB\u001b[0m \u001b[31m6.9 MB/s\u001b[0m eta \u001b[36m0:00:01\u001b[0m\r\u001b[2K     \u001b[91m━━━━━━━━━━━━━━━━━━━━━━━\u001b[0m\u001b[90m╺\u001b[0m\u001b[90m━━━━━━━━━━━━━━━━\u001b[0m \u001b[32m0.9/1.6 MB\u001b[0m \u001b[31m8.9 MB/s\u001b[0m eta \u001b[36m0:00:01\u001b[0m\r\u001b[2K     \u001b[91m━━━━━━━━━━━━━━━━━━━━━━━━━━━━━━━━━━━━━━\u001b[0m\u001b[90m╺\u001b[0m\u001b[90m━\u001b[0m \u001b[32m1.5/1.6 MB\u001b[0m \u001b[31m10.8 MB/s\u001b[0m eta \u001b[36m0:00:01\u001b[0m\r\u001b[2K     \u001b[90m━━━━━━━━━━━━━━━━━━━━━━━━━━━━━━━━━━━━━━━━\u001b[0m \u001b[32m1.6/1.6 MB\u001b[0m \u001b[31m10.0 MB/s\u001b[0m eta \u001b[36m0:00:00\u001b[0m\n",
            "\u001b[?25h"
          ]
        }
      ]
    },
    {
      "cell_type": "code",
      "source": [
        "!git clone https://github.com/step-cheng/CIFAR10-pytorch.git\n"
      ],
      "metadata": {
        "id": "iMWh0HmVil-K",
        "colab": {
          "base_uri": "https://localhost:8080/"
        },
        "outputId": "63a3f645-ba91-48c8-c2c1-675e03f498f0"
      },
      "execution_count": 1,
      "outputs": [
        {
          "output_type": "stream",
          "name": "stdout",
          "text": [
            "Cloning into 'CIFAR10-pytorch'...\n",
            "remote: Enumerating objects: 43, done.\u001b[K\n",
            "remote: Counting objects: 100% (43/43), done.\u001b[K\n",
            "remote: Compressing objects: 100% (37/37), done.\u001b[K\n",
            "remote: Total 43 (delta 15), reused 21 (delta 4), pack-reused 0\u001b[K\n",
            "Receiving objects: 100% (43/43), 19.27 KiB | 6.42 MiB/s, done.\n",
            "Resolving deltas: 100% (15/15), done.\n"
          ]
        }
      ]
    },
    {
      "cell_type": "code",
      "source": [
        "# Turn on Google Colab Debugger\n",
        "%pdb on\n",
        "%pdb off"
      ],
      "metadata": {
        "id": "s-RkuDnC0V6M"
      },
      "execution_count": 3,
      "outputs": []
    },
    {
      "cell_type": "code",
      "execution_count": 5,
      "metadata": {
        "id": "PoT6Z9S0m9Uk"
      },
      "outputs": [],
      "source": [
        "import torch\n",
        "from torch import nn\n",
        "import torchvision\n",
        "from torchvision import datasets, transforms\n",
        "import matplotlib.pyplot as plt\n",
        "import numpy as np\n",
        "from datetime import datetime\n",
        "import ipdb"
      ]
    },
    {
      "cell_type": "code",
      "source": [
        "import sys\n",
        "sys.path.insert(0,'/content/CIFAR10-pytorch')\n",
        "from models import *"
      ],
      "metadata": {
        "id": "TTFGx7nMqUv4"
      },
      "execution_count": 3,
      "outputs": []
    },
    {
      "cell_type": "code",
      "source": [
        "# 50000 train images\n",
        "train_data = datasets.CIFAR10(root='./', train=True, download=True, transform=transforms.ToTensor(),\n",
        "                              target_transform=transforms.Lambda(lambda y : torch.zeros(10,dtype=torch.float).scatter(dim=0,\n",
        "                                                                                                                       index=torch.tensor(y),\n",
        "                                                                                                                       value=1)))\n",
        "# DataLoader wraps an iterable over dataset for automatic batching, sampling, and dataloading\n",
        "train_loader = torch.utils.data.DataLoader(train_data, batch_size=64, shuffle=True)\n",
        "\n",
        "# 10000 test images\n",
        "test_data = datasets.CIFAR10(root='./', train=False, download=True, transform=transforms.ToTensor(),\n",
        "                             target_transform=transforms.Lambda(lambda y : torch.zeros(10,dtype=torch.float).scatter(dim=0,\n",
        "                                                                                                                       index=torch.tensor(y),\n",
        "                                                                                                                       value=1)))\n",
        "test_loader = torch.utils.data.DataLoader(test_data, batch_size=64, shuffle=True)\n",
        "\n",
        "classes = {\n",
        "    0 : 'plane',    1 : 'car',    2 : 'bird',   3 : 'cat',    4 : 'deer',\n",
        "    5 : 'dog',      6 : 'frog',   7 : 'horse',  8 : 'ship',   9 : 'truck'\n",
        "}"
      ],
      "metadata": {
        "id": "rl6hempmsxdB",
        "colab": {
          "base_uri": "https://localhost:8080/"
        },
        "outputId": "9ea42989-d66e-436a-cfc4-b2d3697e5895"
      },
      "execution_count": 4,
      "outputs": [
        {
          "output_type": "stream",
          "name": "stdout",
          "text": [
            "Downloading https://www.cs.toronto.edu/~kriz/cifar-10-python.tar.gz to ./cifar-10-python.tar.gz\n"
          ]
        },
        {
          "output_type": "stream",
          "name": "stderr",
          "text": [
            "100%|██████████| 170498071/170498071 [00:05<00:00, 29577102.35it/s]\n"
          ]
        },
        {
          "output_type": "stream",
          "name": "stdout",
          "text": [
            "Extracting ./cifar-10-python.tar.gz to ./\n",
            "Files already downloaded and verified\n"
          ]
        }
      ]
    },
    {
      "cell_type": "code",
      "source": [
        "# img, label = training_data[1]\n",
        "train_iter = iter(train_loader)\n",
        "# img, label = next(train_iter)\n",
        "# print(img.shape)\n",
        "# print(label.shape)\n",
        "\n",
        "# shows image tensor\n",
        "def show(tens, label):\n",
        "  # make_grid makes a grid of images from a batch of tensors BxCxHxW\n",
        "  label = torch.argmax(label,dim=1)\n",
        "  print(label)\n",
        "  img = torchvision.utils.make_grid(tens) # flattens B dimension to make a grid\n",
        "  np_img = img.numpy()\n",
        "  plt.imshow(np.transpose(np_img, (1,2,0)))     # seems each image is spaced by 2 pixels, channels goes last when plotting\n",
        "  # title = classes[label]\n",
        "  title = ' '.join([classes[t.item()] for t in label])\n",
        "  plt.title(title)\n",
        "\n",
        "# show(img, label)\n"
      ],
      "metadata": {
        "id": "IN42zO8090Eq"
      },
      "execution_count": 5,
      "outputs": []
    },
    {
      "cell_type": "code",
      "source": [
        "# # Demonstration of loss.backward() and optimizer.step()\n",
        "\n",
        "# print(model.conv_pool_stack[0].weight[0,0])\n",
        "# loss_fn = nn.CrossEntropyLoss()\n",
        "# optimizer = torch.optim.SGD(model.parameters(),lr=0.1)\n",
        "\n",
        "# input = torch.randn((4,3,32,32),requires_grad=False)\n",
        "# target = torch.randint(0,10,size=(4,))\n",
        "# logits = model(input)\n",
        "# loss = loss_fn(logits,target)\n",
        "# print(loss)\n",
        "# loss.backward()\n",
        "# print(model.conv_pool_stack[0].weight[0,0])\n",
        "# print(model.conv_pool_stack[0].weight.grad[0,0])\n",
        "# optimizer.step()\n",
        "# print(model.conv_pool_stack[0].weight[0,0])\n",
        "# print(model.conv_pool_stack[0].weight.grad[0,0])\n",
        "# optimizer.zero_grad()"
      ],
      "metadata": {
        "id": "LOYylidu55o6"
      },
      "execution_count": null,
      "outputs": []
    },
    {
      "cell_type": "code",
      "source": [
        "def preprocess(x):\n",
        "  # find std and mean per channel\n",
        "  x_stds = torch.std(x, dim=(0,2,3))\n",
        "  x_means = torch.sum(x, dim=(0,2,3)) / (x.shape[0]*x.shape[2]*x.shape[3])\n",
        "\n",
        "  for channel in range(3):\n",
        "    x[:,channel,:,:] -= x_means[channel]\n",
        "    x[:,channel,:,:] /= x_stds[channel]\n",
        "  return x\n"
      ],
      "metadata": {
        "id": "8rckwQjk9RPv",
        "colab": {
          "base_uri": "https://localhost:8080/"
        },
        "outputId": "0d256b62-6fd3-40c3-9756-d5c599765cb5"
      },
      "execution_count": 10,
      "outputs": [
        {
          "output_type": "stream",
          "name": "stdout",
          "text": [
            "tensor([1.0183, 1.0052, 0.9976])\n",
            "tensor([1.0183, 1.0052, 0.9976])\n"
          ]
        }
      ]
    },
    {
      "cell_type": "code",
      "source": [
        "def accuracy(pred,y):\n",
        "  guesses = torch.argmax(pred,dim=1)\n",
        "  matches = sum(guesses==y).item()\n",
        "  return matches/torch.numel(y), matches\n"
      ],
      "metadata": {
        "id": "c3q0ZeYhekEr"
      },
      "execution_count": 7,
      "outputs": []
    },
    {
      "cell_type": "code",
      "source": [
        "def train(dataloader, model, device, loss_fn, optimizer):\n",
        "  # sets the module to training mode, eval does the opposite\n",
        "  model.train()\n",
        "\n",
        "  accs = []\n",
        "  matches = 0\n",
        "\n",
        "  for batch, (X, y) in enumerate(dataloader):\n",
        "    imgs, labels = X.to(device), y.to(device)\n",
        "\n",
        "    # do data preprocessing\n",
        "    imgs = preprocess(imgs)\n",
        "    # do not call model.foward(X), doing model(X) calls the __call__() function which does a few extra hooks...\n",
        "    pred = model(imgs)\n",
        "    loss = loss_fn(pred, torch.argmax(labels,dim=1))\n",
        "    acc, m = accuracy(pred,torch.argmax(labels,dim=1))\n",
        "    matches += m\n",
        "\n",
        "    if batch % 50 == 0:\n",
        "      accs.append(acc)\n",
        "      print(f\"Progress: {(batch+1) * len(X)}, current accuracy: {m/len(X)}\")\n",
        "\n",
        "    # Backpropagation\n",
        "    loss.backward()     # backpropagates prediction loss, deposits gradients of the loss w.r.t. for each parameter that has requires_grad=True\n",
        "    optimizer.step()    # updates the parameter values, \"learns\"\n",
        "    optimizer.zero_grad()       # zeros the grads because it is a dynamic graph\n",
        "\n",
        "  print(f\"Epoch Accuracy: {matches/50000}\")\n",
        "\n"
      ],
      "metadata": {
        "id": "d9UtkukWtlz3"
      },
      "execution_count": 8,
      "outputs": []
    },
    {
      "cell_type": "code",
      "source": [
        "def test(dataloader, model, device):\n",
        "\n",
        "  # set module to testing mode, train does the opposite\n",
        "  model.eval()\n",
        "  accs = []\n",
        "  matches = 0\n",
        "\n",
        "  # used to turn off gradient calculations\n",
        "  with torch.no_grad():\n",
        "    for batch, (X,y) in enumerate(dataloader):\n",
        "      imgs, labels = X.to(device), y.to(device)\n",
        "\n",
        "      imgs = preprocess(imgs)\n",
        "      pred = model(imgs)\n",
        "      acc, m = accuracy(pred,torch.argmax(labels,dim=1))\n",
        "      matches += m\n",
        "\n",
        "      if batch % 50 == 0:\n",
        "        print(f\"Progress: {(batch+1)*len(X)}, current accuracy: {m/len(X)}\")\n",
        "        accs.append(acc)\n",
        "\n",
        "  print(f\"Test Accuracy: {matches/10000}\")"
      ],
      "metadata": {
        "id": "QWIRgUUwQkNs"
      },
      "execution_count": 9,
      "outputs": []
    },
    {
      "cell_type": "code",
      "source": [
        "if torch.cuda.is_available():\n",
        "    device = torch.device(\"cuda\")\n",
        "    print(f\"Pytorch version: {torch.__version__}\")\n",
        "    print(f\"Device name: {torch.cuda.get_device_name(0)}\")\n",
        "else:\n",
        "    device = torch.device(\"cpu\")\n",
        "    print(\"No GPU available.\")"
      ],
      "metadata": {
        "colab": {
          "base_uri": "https://localhost:8080/"
        },
        "id": "tUN3qNOTBSo0",
        "outputId": "831f3828-5abd-4855-e4d0-cdd1034b00a6"
      },
      "execution_count": 10,
      "outputs": [
        {
          "output_type": "stream",
          "name": "stdout",
          "text": [
            "Pytorch version: 2.0.1+cu118\n",
            "Device name: Tesla T4\n"
          ]
        }
      ]
    },
    {
      "cell_type": "code",
      "source": [
        "model = vgg.VGG19().to(device)\n",
        "model = nn.DataParallel(model)\n",
        "# model.half() # If doing this, input type and weight type need to be the same\n",
        "\n",
        "# set cross entropy loss and Adam optimizer functions\n",
        "loss_fn = nn.CrossEntropyLoss()     # THIS NEEDS TARGET VALUES, NOT ONE-HOT ENCODING\n",
        "optimizer = torch.optim.Adam(model.parameters()) # 5e-4 for my model"
      ],
      "metadata": {
        "id": "EDZy9L4bskv4"
      },
      "execution_count": 18,
      "outputs": []
    },
    {
      "cell_type": "code",
      "source": [
        "epochs = 5\n",
        "start = datetime.now()\n",
        "for e in range(epochs):\n",
        "  train(train_loader, model, device, loss_fn, optimizer)\n",
        "  test(test_loader,model,device)\n",
        "elapse = datetime.now() - start\n",
        "print(\"Training Time: \", elapse)\n"
      ],
      "metadata": {
        "colab": {
          "base_uri": "https://localhost:8080/"
        },
        "id": "k0SE_txDFhxD",
        "outputId": "de4fdadf-77a1-49fa-b8c3-233d52f191d8"
      },
      "execution_count": 19,
      "outputs": [
        {
          "output_type": "stream",
          "name": "stdout",
          "text": [
            "Progress: 64, current accuracy: 0.109375\n",
            "Progress: 3264, current accuracy: 0.140625\n",
            "Progress: 6464, current accuracy: 0.15625\n",
            "Progress: 9664, current accuracy: 0.15625\n",
            "Progress: 12864, current accuracy: 0.140625\n",
            "Progress: 16064, current accuracy: 0.15625\n",
            "Progress: 19264, current accuracy: 0.28125\n",
            "Progress: 22464, current accuracy: 0.203125\n",
            "Progress: 25664, current accuracy: 0.234375\n",
            "Progress: 28864, current accuracy: 0.09375\n",
            "Progress: 32064, current accuracy: 0.078125\n",
            "Progress: 35264, current accuracy: 0.140625\n",
            "Progress: 38464, current accuracy: 0.25\n",
            "Progress: 41664, current accuracy: 0.203125\n",
            "Progress: 44864, current accuracy: 0.265625\n",
            "Progress: 48064, current accuracy: 0.234375\n",
            "Epoch Accuracy: 0.17878\n",
            "Progress: 64, current accuracy: 0.109375\n",
            "Progress: 3264, current accuracy: 0.203125\n",
            "Progress: 6464, current accuracy: 0.234375\n",
            "Progress: 9664, current accuracy: 0.234375\n",
            "Test Accuracy: 0.2152\n",
            "Progress: 64, current accuracy: 0.171875\n",
            "Progress: 3264, current accuracy: 0.265625\n",
            "Progress: 6464, current accuracy: 0.25\n",
            "Progress: 9664, current accuracy: 0.171875\n",
            "Progress: 12864, current accuracy: 0.3125\n",
            "Progress: 16064, current accuracy: 0.1875\n",
            "Progress: 19264, current accuracy: 0.125\n",
            "Progress: 22464, current accuracy: 0.234375\n",
            "Progress: 25664, current accuracy: 0.1875\n",
            "Progress: 28864, current accuracy: 0.21875\n",
            "Progress: 32064, current accuracy: 0.171875\n",
            "Progress: 35264, current accuracy: 0.15625\n",
            "Progress: 38464, current accuracy: 0.1875\n",
            "Progress: 41664, current accuracy: 0.25\n",
            "Progress: 44864, current accuracy: 0.203125\n",
            "Progress: 48064, current accuracy: 0.1875\n",
            "Epoch Accuracy: 0.21026\n",
            "Progress: 64, current accuracy: 0.296875\n",
            "Progress: 3264, current accuracy: 0.34375\n",
            "Progress: 6464, current accuracy: 0.15625\n",
            "Progress: 9664, current accuracy: 0.171875\n",
            "Test Accuracy: 0.2314\n",
            "Progress: 64, current accuracy: 0.25\n",
            "Progress: 3264, current accuracy: 0.21875\n",
            "Progress: 6464, current accuracy: 0.203125\n",
            "Progress: 9664, current accuracy: 0.28125\n",
            "Progress: 12864, current accuracy: 0.296875\n",
            "Progress: 16064, current accuracy: 0.28125\n",
            "Progress: 19264, current accuracy: 0.203125\n",
            "Progress: 22464, current accuracy: 0.265625\n",
            "Progress: 25664, current accuracy: 0.25\n",
            "Progress: 28864, current accuracy: 0.359375\n",
            "Progress: 32064, current accuracy: 0.328125\n",
            "Progress: 35264, current accuracy: 0.328125\n",
            "Progress: 38464, current accuracy: 0.28125\n",
            "Progress: 41664, current accuracy: 0.28125\n",
            "Progress: 44864, current accuracy: 0.21875\n",
            "Progress: 48064, current accuracy: 0.125\n",
            "Epoch Accuracy: 0.24256\n",
            "Progress: 64, current accuracy: 0.203125\n",
            "Progress: 3264, current accuracy: 0.1875\n",
            "Progress: 6464, current accuracy: 0.234375\n",
            "Progress: 9664, current accuracy: 0.15625\n",
            "Test Accuracy: 0.2049\n",
            "Progress: 64, current accuracy: 0.296875\n",
            "Progress: 3264, current accuracy: 0.296875\n",
            "Progress: 6464, current accuracy: 0.296875\n",
            "Progress: 9664, current accuracy: 0.265625\n",
            "Progress: 12864, current accuracy: 0.25\n",
            "Progress: 16064, current accuracy: 0.296875\n",
            "Progress: 19264, current accuracy: 0.203125\n",
            "Progress: 22464, current accuracy: 0.28125\n",
            "Progress: 25664, current accuracy: 0.1875\n",
            "Progress: 28864, current accuracy: 0.25\n",
            "Progress: 32064, current accuracy: 0.25\n",
            "Progress: 35264, current accuracy: 0.234375\n",
            "Progress: 38464, current accuracy: 0.21875\n",
            "Progress: 41664, current accuracy: 0.3125\n",
            "Progress: 44864, current accuracy: 0.390625\n",
            "Progress: 48064, current accuracy: 0.28125\n",
            "Epoch Accuracy: 0.26084\n",
            "Progress: 64, current accuracy: 0.328125\n",
            "Progress: 3264, current accuracy: 0.359375\n",
            "Progress: 6464, current accuracy: 0.203125\n",
            "Progress: 9664, current accuracy: 0.3125\n",
            "Test Accuracy: 0.2795\n",
            "Progress: 64, current accuracy: 0.203125\n",
            "Progress: 3264, current accuracy: 0.234375\n",
            "Progress: 6464, current accuracy: 0.203125\n",
            "Progress: 9664, current accuracy: 0.21875\n",
            "Progress: 12864, current accuracy: 0.46875\n",
            "Progress: 16064, current accuracy: 0.34375\n",
            "Progress: 19264, current accuracy: 0.328125\n",
            "Progress: 22464, current accuracy: 0.28125\n",
            "Progress: 25664, current accuracy: 0.3125\n",
            "Progress: 28864, current accuracy: 0.296875\n",
            "Progress: 32064, current accuracy: 0.359375\n",
            "Progress: 35264, current accuracy: 0.28125\n",
            "Progress: 38464, current accuracy: 0.265625\n",
            "Progress: 41664, current accuracy: 0.21875\n",
            "Progress: 44864, current accuracy: 0.265625\n",
            "Progress: 48064, current accuracy: 0.234375\n",
            "Epoch Accuracy: 0.2761\n",
            "Progress: 64, current accuracy: 0.203125\n",
            "Progress: 3264, current accuracy: 0.296875\n",
            "Progress: 6464, current accuracy: 0.359375\n",
            "Progress: 9664, current accuracy: 0.34375\n",
            "Test Accuracy: 0.3065\n",
            "Training Time:  0:03:06.136856\n"
          ]
        }
      ]
    },
    {
      "cell_type": "code",
      "source": [
        "# # MOVE THIS INTO THE FOR LOOP OR SMTH, like in the tutorial\n",
        "# test(test_loader,model,device)\n",
        "\n",
        "# Show missed images and what the machine thought it was\n",
        "# Visualize the conv filter?"
      ],
      "metadata": {
        "id": "XQvdJQ4hDpU1"
      },
      "execution_count": 12,
      "outputs": []
    }
  ]
}