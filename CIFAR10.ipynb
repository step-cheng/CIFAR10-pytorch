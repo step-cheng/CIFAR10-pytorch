{
  "nbformat": 4,
  "nbformat_minor": 0,
  "metadata": {
    "colab": {
      "provenance": [],
      "gpuType": "T4",
      "authorship_tag": "ABX9TyM27MAOqQltcXd6yfch20wV",
      "include_colab_link": true
    },
    "kernelspec": {
      "name": "python3",
      "display_name": "Python 3"
    },
    "language_info": {
      "name": "python"
    },
    "accelerator": "GPU"
  },
  "cells": [
    {
      "cell_type": "markdown",
      "metadata": {
        "id": "view-in-github",
        "colab_type": "text"
      },
      "source": [
        "<a href=\"https://colab.research.google.com/github/step-cheng/CIFAR10-pytorch/blob/main/CIFAR10.ipynb\" target=\"_parent\"><img src=\"https://colab.research.google.com/assets/colab-badge.svg\" alt=\"Open In Colab\"/></a>"
      ]
    },
    {
      "cell_type": "code",
      "source": [
        "# !pip install torch>=2.0.1\n",
        "# !pip install torchvision\n",
        "# !pip install -Uqq ipdb"
      ],
      "metadata": {
        "id": "cxi4yrAUw6Xu"
      },
      "execution_count": 2,
      "outputs": []
    },
    {
      "cell_type": "code",
      "source": [
        "!git clone https://github.com/step-cheng/CIFAR10-pytorch.git\n",
        "# %cd CIFAR10-pytorch\n",
        "# !git pull\n",
        "# %cd .."
      ],
      "metadata": {
        "id": "iMWh0HmVil-K",
        "colab": {
          "base_uri": "https://localhost:8080/"
        },
        "outputId": "eeaa42b8-c9e5-44e4-beac-b6321e6cda4d"
      },
      "execution_count": 3,
      "outputs": [
        {
          "output_type": "stream",
          "name": "stdout",
          "text": [
            "Cloning into 'CIFAR10-pytorch'...\n",
            "remote: Enumerating objects: 145, done.\u001b[K\n",
            "remote: Counting objects: 100% (145/145), done.\u001b[K\n",
            "remote: Compressing objects: 100% (113/113), done.\u001b[K\n",
            "remote: Total 145 (delta 70), reused 76 (delta 30), pack-reused 0\u001b[K\n",
            "Receiving objects: 100% (145/145), 1.64 MiB | 7.66 MiB/s, done.\n",
            "Resolving deltas: 100% (70/70), done.\n"
          ]
        }
      ]
    },
    {
      "cell_type": "code",
      "source": [
        "# Turn on Google Colab Debugger\n",
        "# %pdb on\n",
        "# %pdb off"
      ],
      "metadata": {
        "id": "s-RkuDnC0V6M"
      },
      "execution_count": 4,
      "outputs": []
    },
    {
      "cell_type": "code",
      "execution_count": 5,
      "metadata": {
        "id": "PoT6Z9S0m9Uk"
      },
      "outputs": [],
      "source": [
        "import torch\n",
        "from torch import nn\n",
        "import torchvision\n",
        "from torchvision import datasets, transforms\n",
        "import matplotlib.pyplot as plt\n",
        "import numpy as np\n",
        "from datetime import datetime\n",
        "# import ipdb"
      ]
    },
    {
      "cell_type": "code",
      "source": [
        "import sys\n",
        "sys.path.append('/content/CIFAR10-pytorch')\n",
        "from models import *\n",
        "from utils import accuracy"
      ],
      "metadata": {
        "id": "TTFGx7nMqUv4",
        "colab": {
          "base_uri": "https://localhost:8080/"
        },
        "outputId": "6580cfa2-52ec-45c9-c81e-310f8549cb61"
      },
      "execution_count": 6,
      "outputs": [
        {
          "output_type": "stream",
          "name": "stderr",
          "text": [
            "Downloading: \"https://download.pytorch.org/models/vgg19_bn-c79401a0.pth\" to /root/.cache/torch/hub/checkpoints/vgg19_bn-c79401a0.pth\n",
            "100%|██████████| 548M/548M [00:05<00:00, 109MB/s]\n",
            "Downloading: \"https://download.pytorch.org/models/resnet50-11ad3fa6.pth\" to /root/.cache/torch/hub/checkpoints/resnet50-11ad3fa6.pth\n",
            "100%|██████████| 97.8M/97.8M [00:01<00:00, 92.1MB/s]\n",
            "Downloading: \"https://download.pytorch.org/models/resnet18-f37072fd.pth\" to /root/.cache/torch/hub/checkpoints/resnet18-f37072fd.pth\n",
            "100%|██████████| 44.7M/44.7M [00:00<00:00, 49.2MB/s]\n",
            "Downloading: \"https://download.pytorch.org/models/mobilenet_v3_small-047dcff4.pth\" to /root/.cache/torch/hub/checkpoints/mobilenet_v3_small-047dcff4.pth\n",
            "100%|██████████| 9.83M/9.83M [00:00<00:00, 41.7MB/s]\n"
          ]
        }
      ]
    },
    {
      "cell_type": "code",
      "source": [
        "transform_train = transforms.Compose([transforms.RandomHorizontalFlip(),\n",
        "                                      transforms.ToTensor(),\n",
        "                                      transforms.Normalize((0.4914,0.4822,0.4465), (0.2470, 0.2435, 0.2616))])\n",
        "\n",
        "transform_test = transforms.Compose([transforms.ToTensor(),\n",
        "                                     transforms.Normalize((0.4942, 0.4851, 0.4504), (0.2467, 0.2429, 0.2616))])\n",
        "\n",
        "target_transform = None\n",
        "# target_transform = transforms.Lambda(lambda y : torch.zeros(10,dtype=torch.float).scatter(dim=0, index=torch.tensor(y),value=1))\n",
        "\n",
        "# 50000 train images\n",
        "train_data = datasets.CIFAR10(root='./', train=True, download=True, transform=transform_train, target_transform=target_transform)\n",
        "# DataLoader wraps an iterable over dataset for automatic batching, sampling, and dataloading\n",
        "train_loader = torch.utils.data.DataLoader(train_data, batch_size=128, shuffle=True)\n",
        "\n",
        "# 10000 test images\n",
        "test_data = datasets.CIFAR10(root='./', train=False, download=True, transform=transform_test, target_transform=target_transform)\n",
        "test_loader = torch.utils.data.DataLoader(test_data, batch_size=128, shuffle=True)\n",
        "\n",
        "classes = {\n",
        "    0 : 'plane',    1 : 'car',    2 : 'bird',   3 : 'cat',    4 : 'deer',\n",
        "    5 : 'dog',      6 : 'frog',   7 : 'horse',  8 : 'ship',   9 : 'truck'\n",
        "}"
      ],
      "metadata": {
        "id": "rl6hempmsxdB",
        "colab": {
          "base_uri": "https://localhost:8080/"
        },
        "outputId": "06e7e921-125a-4f73-a875-f437ea95fc42"
      },
      "execution_count": 7,
      "outputs": [
        {
          "output_type": "stream",
          "name": "stdout",
          "text": [
            "Downloading https://www.cs.toronto.edu/~kriz/cifar-10-python.tar.gz to ./cifar-10-python.tar.gz\n"
          ]
        },
        {
          "output_type": "stream",
          "name": "stderr",
          "text": [
            "100%|██████████| 170498071/170498071 [00:01<00:00, 95195342.63it/s] \n"
          ]
        },
        {
          "output_type": "stream",
          "name": "stdout",
          "text": [
            "Extracting ./cifar-10-python.tar.gz to ./\n",
            "Files already downloaded and verified\n"
          ]
        }
      ]
    },
    {
      "cell_type": "code",
      "source": [
        "# img, label = training_data[1]\n",
        "train_iter = iter(train_loader)\n",
        "img, label = next(train_iter)\n",
        "# print(img.shape)\n",
        "# print(label.shape)\n",
        "\n",
        "# shows image tensor\n",
        "def show(tens, label):\n",
        "  # make_grid makes a grid of images from a batch of tensors BxCxHxW\n",
        "  img = torchvision.utils.make_grid(tens) # flattens B dimension to make a grid\n",
        "  np_img = img.numpy()\n",
        "  plt.imshow(np.transpose(np_img, (1,2,0)))     # seems each image is spaced by 2 pixels, channels goes last when plotting\n",
        "  title = ' '.join([classes[t.item()] for t in label])\n",
        "  plt.title(title)\n",
        "\n",
        "# show(img, label)\n"
      ],
      "metadata": {
        "id": "IN42zO8090Eq"
      },
      "execution_count": 8,
      "outputs": []
    },
    {
      "cell_type": "code",
      "source": [
        "def train(dataloader, model, device, loss_fn, optimizer):\n",
        "  # sets the module to training mode, eval does the opposite\n",
        "  model.train()\n",
        "\n",
        "  accs = []\n",
        "  losses = []\n",
        "  matches = 0\n",
        "\n",
        "  for batch, (X, y) in enumerate(dataloader):\n",
        "    imgs, labels = X.to(device), y.to(device)\n",
        "\n",
        "    pred = model(imgs)\n",
        "    loss = loss_fn(pred, labels)\n",
        "    acc, m = accuracy(pred, labels)\n",
        "\n",
        "    losses.append(loss.item())\n",
        "    accs.append(acc)\n",
        "    matches += m\n",
        "    if batch % 50 == 0:\n",
        "      print(f\"Progress: {(batch+1) * len(X)}, current accuracy: {m/len(X)}\")\n",
        "\n",
        "    loss.backward()\n",
        "    # print(model.classifier[2].weight[:,0])\n",
        "    # print(model.classifier[2].weight.grad[:,0])\n",
        "    optimizer.step()\n",
        "    optimizer.zero_grad()\n",
        "\n",
        "  print(f\"Epoch Accuracy: {matches/50000}\")\n",
        "  return losses, accs\n",
        "\n"
      ],
      "metadata": {
        "id": "d9UtkukWtlz3"
      },
      "execution_count": 9,
      "outputs": []
    },
    {
      "cell_type": "code",
      "source": [
        "def test(dataloader, model, device):\n",
        "\n",
        "  # set module to testing mode, train does the opposite\n",
        "  model.eval()\n",
        "  accs = []\n",
        "  matches = 0\n",
        "\n",
        "  # used to turn off gradient calculations\n",
        "  with torch.no_grad():\n",
        "    for batch, (X,y) in enumerate(dataloader):\n",
        "      imgs, labels = X.to(device), y.to(device)\n",
        "\n",
        "      pred = model(imgs)\n",
        "      acc, m = accuracy(pred,labels)\n",
        "      matches += m\n",
        "\n",
        "      if batch % 50 == 0:\n",
        "        print(f\"Progress: {(batch+1)*len(X)}, current accuracy: {m/len(X)}\")\n",
        "        accs.append(acc)\n",
        "\n",
        "  print(f\"Test Accuracy: {matches/10000}\")"
      ],
      "metadata": {
        "id": "QWIRgUUwQkNs"
      },
      "execution_count": 10,
      "outputs": []
    },
    {
      "cell_type": "code",
      "source": [
        "if torch.cuda.is_available():\n",
        "    device = torch.device(\"cuda\")\n",
        "    print(f\"Pytorch version: {torch.__version__}\")\n",
        "    print(f\"Device name: {torch.cuda.get_device_name(0)}\")\n",
        "else:\n",
        "    device = torch.device(\"cpu\")\n",
        "    print(\"No GPU available.\")"
      ],
      "metadata": {
        "id": "tUN3qNOTBSo0",
        "colab": {
          "base_uri": "https://localhost:8080/"
        },
        "outputId": "04382bae-505f-4fd5-c14d-80bc9d87ac99"
      },
      "execution_count": 11,
      "outputs": [
        {
          "output_type": "stream",
          "name": "stdout",
          "text": [
            "Pytorch version: 2.0.1+cu118\n",
            "Device name: Tesla T4\n"
          ]
        }
      ]
    },
    {
      "cell_type": "code",
      "source": [
        "model = mymodel.myNN().to(device)\n",
        "# model.half() # If doing this, input type and weight type need to be the same\n",
        "\n",
        "# set cross entropy loss and Adam optimizer functions\n",
        "loss_fn = nn.CrossEntropyLoss()\n",
        "# optimizer = torch.optim.SGD(model.parameters(), lr=0.001, momentum=0.9, weight_decay=0.005)\n",
        "optimizer = torch.optim.Adam(model.parameters(),lr=0.001,weight_decay=0.01) # 0.005\n",
        "lr_sch = torch.optim.lr_scheduler.CosineAnnealingLR(optimizer, T_max=25, eta_min=0.0001)\n",
        "# lr_sch = torch.optim.lr_scheduler.StepLR(optimizer, step_size=14, gamma=0.1)"
      ],
      "metadata": {
        "id": "EDZy9L4bskv4"
      },
      "execution_count": 15,
      "outputs": []
    },
    {
      "cell_type": "code",
      "source": [
        "epochs = 25\n",
        "start = datetime.now()\n",
        "losses_ = []\n",
        "accuracies_ = []\n",
        "for e in range(epochs):\n",
        "  print(f\"Epoch {e+1}, learning rate {lr_sch.get_last_lr()}\")\n",
        "  losses, accuracies = train(train_loader, model, device, loss_fn, optimizer)\n",
        "  losses_.extend(losses)\n",
        "  accuracies_.extend(accuracies)\n",
        "  test(test_loader,model,device)\n",
        "  # return losses and accuracy, compile into big graph\n",
        "  optimizer.step()\n",
        "  lr_sch.step()\n",
        "elapse = datetime.now() - start\n",
        "print(\"Training Time: \", elapse)\n",
        "plt.figure()\n",
        "plt.plot(torch.arange(1,len(losses_)+1), losses_)\n",
        "plt.title(\"Loss vs Batch\")\n",
        "plt.xlabel(\"Batches\")\n",
        "plt.ylabel(\"Loss\")\n",
        "plt.figure()\n",
        "plt.plot(torch.arange(1,len(accuracies_)+1), accuracies_)\n",
        "plt.title(\"Accuracy vs Batch\")\n",
        "plt.xlabel(\"Batches\")\n",
        "plt.ylabel(\"Training Accuracy\")\n"
      ],
      "metadata": {
        "id": "k0SE_txDFhxD",
        "colab": {
          "base_uri": "https://localhost:8080/",
          "height": 1000
        },
        "outputId": "6f8f7c90-6276-4b33-c8c0-85048441aa74"
      },
      "execution_count": 13,
      "outputs": [
        {
          "output_type": "stream",
          "name": "stdout",
          "text": [
            "Epoch 1, learning rate [0.001]\n",
            "Progress: 128, current accuracy: 0.09375\n",
            "Progress: 6528, current accuracy: 0.5390625\n",
            "Progress: 12928, current accuracy: 0.5390625\n",
            "Progress: 19328, current accuracy: 0.6875\n",
            "Progress: 25728, current accuracy: 0.5703125\n",
            "Progress: 32128, current accuracy: 0.609375\n",
            "Progress: 38528, current accuracy: 0.6875\n",
            "Progress: 44928, current accuracy: 0.6171875\n",
            "Epoch Accuracy: 0.57904\n",
            "Progress: 128, current accuracy: 0.6640625\n",
            "Progress: 6528, current accuracy: 0.6796875\n",
            "Test Accuracy: 0.6482\n",
            "Epoch 2, learning rate [0.000996451615591515]\n",
            "Progress: 128, current accuracy: 0.625\n",
            "Progress: 6528, current accuracy: 0.71875\n",
            "Progress: 12928, current accuracy: 0.609375\n",
            "Progress: 19328, current accuracy: 0.6875\n",
            "Progress: 25728, current accuracy: 0.7421875\n",
            "Progress: 32128, current accuracy: 0.7265625\n",
            "Progress: 38528, current accuracy: 0.671875\n",
            "Progress: 44928, current accuracy: 0.703125\n",
            "Epoch Accuracy: 0.70364\n",
            "Progress: 128, current accuracy: 0.703125\n",
            "Progress: 6528, current accuracy: 0.703125\n",
            "Test Accuracy: 0.7166\n",
            "Epoch 3, learning rate [0.0009858624225078838]\n",
            "Progress: 128, current accuracy: 0.7421875\n",
            "Progress: 6528, current accuracy: 0.734375\n",
            "Progress: 12928, current accuracy: 0.7890625\n",
            "Progress: 19328, current accuracy: 0.6875\n",
            "Progress: 25728, current accuracy: 0.75\n",
            "Progress: 32128, current accuracy: 0.6953125\n",
            "Progress: 38528, current accuracy: 0.75\n",
            "Progress: 44928, current accuracy: 0.8125\n",
            "Epoch Accuracy: 0.7467\n",
            "Progress: 128, current accuracy: 0.7421875\n",
            "Progress: 6528, current accuracy: 0.7265625\n",
            "Test Accuracy: 0.7399\n",
            "Epoch 4, learning rate [0.000968399418649713]\n",
            "Progress: 128, current accuracy: 0.7578125\n",
            "Progress: 6528, current accuracy: 0.8203125\n",
            "Progress: 12928, current accuracy: 0.703125\n",
            "Progress: 19328, current accuracy: 0.6953125\n",
            "Progress: 25728, current accuracy: 0.78125\n",
            "Progress: 32128, current accuracy: 0.78125\n",
            "Progress: 38528, current accuracy: 0.8046875\n",
            "Progress: 44928, current accuracy: 0.7890625\n",
            "Epoch Accuracy: 0.7753\n",
            "Progress: 128, current accuracy: 0.765625\n",
            "Progress: 6528, current accuracy: 0.8671875\n",
            "Test Accuracy: 0.7589\n",
            "Epoch 5, learning rate [0.0009443380060197385]\n",
            "Progress: 128, current accuracy: 0.7421875\n",
            "Progress: 6528, current accuracy: 0.8046875\n",
            "Progress: 12928, current accuracy: 0.796875\n",
            "Progress: 19328, current accuracy: 0.828125\n",
            "Progress: 25728, current accuracy: 0.7578125\n",
            "Progress: 32128, current accuracy: 0.78125\n",
            "Progress: 38528, current accuracy: 0.7890625\n",
            "Progress: 44928, current accuracy: 0.7265625\n",
            "Epoch Accuracy: 0.78538\n",
            "Progress: 128, current accuracy: 0.75\n",
            "Progress: 6528, current accuracy: 0.78125\n",
            "Test Accuracy: 0.7724\n",
            "Epoch 6, learning rate [0.0009140576474687263]\n",
            "Progress: 128, current accuracy: 0.78125\n",
            "Progress: 6528, current accuracy: 0.7734375\n",
            "Progress: 12928, current accuracy: 0.7578125\n",
            "Progress: 19328, current accuracy: 0.8203125\n",
            "Progress: 25728, current accuracy: 0.796875\n",
            "Progress: 32128, current accuracy: 0.6953125\n",
            "Progress: 38528, current accuracy: 0.8046875\n",
            "Progress: 44928, current accuracy: 0.8046875\n",
            "Epoch Accuracy: 0.79978\n",
            "Progress: 128, current accuracy: 0.8515625\n",
            "Progress: 6528, current accuracy: 0.8203125\n",
            "Test Accuracy: 0.7857\n",
            "Epoch 7, learning rate [0.0008780358823396352]\n",
            "Progress: 128, current accuracy: 0.8125\n",
            "Progress: 6528, current accuracy: 0.8125\n",
            "Progress: 12928, current accuracy: 0.8125\n",
            "Progress: 19328, current accuracy: 0.8203125\n",
            "Progress: 25728, current accuracy: 0.7578125\n",
            "Progress: 32128, current accuracy: 0.7734375\n",
            "Progress: 38528, current accuracy: 0.765625\n",
            "Progress: 44928, current accuracy: 0.765625\n",
            "Epoch Accuracy: 0.81072\n",
            "Progress: 128, current accuracy: 0.75\n",
            "Progress: 6528, current accuracy: 0.734375\n",
            "Test Accuracy: 0.76\n",
            "Epoch 8, learning rate [0.0008368407953869104]\n",
            "Progress: 128, current accuracy: 0.859375\n",
            "Progress: 6528, current accuracy: 0.8515625\n",
            "Progress: 12928, current accuracy: 0.84375\n",
            "Progress: 19328, current accuracy: 0.8046875\n",
            "Progress: 25728, current accuracy: 0.8359375\n",
            "Progress: 32128, current accuracy: 0.828125\n",
            "Progress: 38528, current accuracy: 0.7578125\n",
            "Progress: 44928, current accuracy: 0.828125\n",
            "Epoch Accuracy: 0.82182\n",
            "Progress: 128, current accuracy: 0.765625\n",
            "Progress: 6528, current accuracy: 0.7578125\n",
            "Test Accuracy: 0.8027\n",
            "Epoch 9, learning rate [0.0007911220577405484]\n",
            "Progress: 128, current accuracy: 0.8203125\n",
            "Progress: 6528, current accuracy: 0.7734375\n",
            "Progress: 12928, current accuracy: 0.8359375\n",
            "Progress: 19328, current accuracy: 0.875\n",
            "Progress: 25728, current accuracy: 0.828125\n",
            "Progress: 32128, current accuracy: 0.859375\n",
            "Progress: 38528, current accuracy: 0.828125\n",
            "Progress: 44928, current accuracy: 0.8515625\n",
            "Epoch Accuracy: 0.82742\n",
            "Progress: 128, current accuracy: 0.7421875\n",
            "Progress: 6528, current accuracy: 0.75\n",
            "Test Accuracy: 0.7936\n",
            "Epoch 10, learning rate [0.0007416006812042826]\n",
            "Progress: 128, current accuracy: 0.8203125\n",
            "Progress: 6528, current accuracy: 0.8046875\n",
            "Progress: 12928, current accuracy: 0.875\n",
            "Progress: 19328, current accuracy: 0.8671875\n",
            "Progress: 25728, current accuracy: 0.875\n",
            "Progress: 32128, current accuracy: 0.828125\n",
            "Progress: 38528, current accuracy: 0.8125\n",
            "Progress: 44928, current accuracy: 0.78125\n",
            "Epoch Accuracy: 0.83862\n",
            "Progress: 128, current accuracy: 0.8046875\n",
            "Progress: 6528, current accuracy: 0.8046875\n",
            "Test Accuracy: 0.8043\n",
            "Epoch 11, learning rate [0.0006890576474687262]\n",
            "Progress: 128, current accuracy: 0.8203125\n",
            "Progress: 6528, current accuracy: 0.8984375\n",
            "Progress: 12928, current accuracy: 0.8125\n",
            "Progress: 19328, current accuracy: 0.8515625\n",
            "Progress: 25728, current accuracy: 0.84375\n",
            "Progress: 32128, current accuracy: 0.796875\n",
            "Progress: 38528, current accuracy: 0.796875\n",
            "Progress: 44928, current accuracy: 0.8828125\n",
            "Epoch Accuracy: 0.84494\n",
            "Progress: 128, current accuracy: 0.8046875\n",
            "Progress: 6528, current accuracy: 0.796875\n",
            "Test Accuracy: 0.8017\n",
            "Epoch 12, learning rate [0.0006343215915635761]\n",
            "Progress: 128, current accuracy: 0.8984375\n",
            "Progress: 6528, current accuracy: 0.8984375\n",
            "Progress: 12928, current accuracy: 0.859375\n",
            "Progress: 19328, current accuracy: 0.859375\n",
            "Progress: 25728, current accuracy: 0.8671875\n",
            "Progress: 32128, current accuracy: 0.84375\n",
            "Progress: 38528, current accuracy: 0.859375\n",
            "Progress: 44928, current accuracy: 0.8203125\n",
            "Epoch Accuracy: 0.8534\n",
            "Progress: 128, current accuracy: 0.828125\n",
            "Progress: 6528, current accuracy: 0.765625\n",
            "Test Accuracy: 0.8087\n",
            "Epoch 13, learning rate [0.000578255733788191]\n",
            "Progress: 128, current accuracy: 0.8671875\n",
            "Progress: 6528, current accuracy: 0.84375\n",
            "Progress: 12928, current accuracy: 0.8671875\n",
            "Progress: 19328, current accuracy: 0.84375\n",
            "Progress: 25728, current accuracy: 0.8203125\n",
            "Progress: 32128, current accuracy: 0.8828125\n",
            "Progress: 38528, current accuracy: 0.859375\n",
            "Progress: 44928, current accuracy: 0.8125\n",
            "Epoch Accuracy: 0.85992\n",
            "Progress: 128, current accuracy: 0.8046875\n",
            "Progress: 6528, current accuracy: 0.8515625\n",
            "Test Accuracy: 0.816\n",
            "Epoch 14, learning rate [0.000521744266211809]\n",
            "Progress: 128, current accuracy: 0.8671875\n",
            "Progress: 6528, current accuracy: 0.890625\n",
            "Progress: 12928, current accuracy: 0.84375\n",
            "Progress: 19328, current accuracy: 0.9140625\n",
            "Progress: 25728, current accuracy: 0.890625\n",
            "Progress: 32128, current accuracy: 0.84375\n",
            "Progress: 38528, current accuracy: 0.859375\n",
            "Progress: 44928, current accuracy: 0.8828125\n",
            "Epoch Accuracy: 0.86668\n",
            "Progress: 128, current accuracy: 0.8203125\n",
            "Progress: 6528, current accuracy: 0.859375\n",
            "Test Accuracy: 0.8343\n",
            "Epoch 15, learning rate [0.0004656784084364239]\n",
            "Progress: 128, current accuracy: 0.84375\n",
            "Progress: 6528, current accuracy: 0.8515625\n",
            "Progress: 12928, current accuracy: 0.9140625\n",
            "Progress: 19328, current accuracy: 0.8515625\n",
            "Progress: 25728, current accuracy: 0.875\n",
            "Progress: 32128, current accuracy: 0.921875\n",
            "Progress: 38528, current accuracy: 0.875\n",
            "Progress: 44928, current accuracy: 0.90625\n",
            "Epoch Accuracy: 0.87694\n",
            "Progress: 128, current accuracy: 0.7890625\n",
            "Progress: 6528, current accuracy: 0.8046875\n",
            "Test Accuracy: 0.8292\n",
            "Epoch 16, learning rate [0.0004109423525312738]\n",
            "Progress: 128, current accuracy: 0.8984375\n",
            "Progress: 6528, current accuracy: 0.921875\n",
            "Progress: 12928, current accuracy: 0.921875\n",
            "Progress: 19328, current accuracy: 0.8671875\n",
            "Progress: 25728, current accuracy: 0.875\n",
            "Progress: 32128, current accuracy: 0.8515625\n",
            "Progress: 38528, current accuracy: 0.8671875\n",
            "Progress: 44928, current accuracy: 0.859375\n",
            "Epoch Accuracy: 0.88698\n",
            "Progress: 128, current accuracy: 0.84375\n",
            "Progress: 6528, current accuracy: 0.8203125\n",
            "Test Accuracy: 0.8383\n",
            "Epoch 17, learning rate [0.0003583993187957173]\n",
            "Progress: 128, current accuracy: 0.890625\n",
            "Progress: 6528, current accuracy: 0.9296875\n",
            "Progress: 12928, current accuracy: 0.8671875\n",
            "Progress: 19328, current accuracy: 0.8671875\n",
            "Progress: 25728, current accuracy: 0.8984375\n",
            "Progress: 32128, current accuracy: 0.8984375\n",
            "Progress: 38528, current accuracy: 0.828125\n",
            "Progress: 44928, current accuracy: 0.9296875\n",
            "Epoch Accuracy: 0.89422\n",
            "Progress: 128, current accuracy: 0.8046875\n",
            "Progress: 6528, current accuracy: 0.9140625\n",
            "Test Accuracy: 0.8417\n",
            "Epoch 18, learning rate [0.0003088779422594514]\n",
            "Progress: 128, current accuracy: 0.875\n",
            "Progress: 6528, current accuracy: 0.90625\n",
            "Progress: 12928, current accuracy: 0.890625\n",
            "Progress: 19328, current accuracy: 0.9140625\n",
            "Progress: 25728, current accuracy: 0.921875\n",
            "Progress: 32128, current accuracy: 0.9140625\n",
            "Progress: 38528, current accuracy: 0.8671875\n",
            "Progress: 44928, current accuracy: 0.9296875\n",
            "Epoch Accuracy: 0.90324\n",
            "Progress: 128, current accuracy: 0.8515625\n",
            "Progress: 6528, current accuracy: 0.8828125\n",
            "Test Accuracy: 0.8515\n",
            "Epoch 19, learning rate [0.0002631592046130896]\n",
            "Progress: 128, current accuracy: 0.921875\n",
            "Progress: 6528, current accuracy: 0.9609375\n",
            "Progress: 12928, current accuracy: 0.921875\n",
            "Progress: 19328, current accuracy: 0.9296875\n",
            "Progress: 25728, current accuracy: 0.953125\n",
            "Progress: 32128, current accuracy: 0.953125\n",
            "Progress: 38528, current accuracy: 0.9140625\n",
            "Progress: 44928, current accuracy: 0.9296875\n",
            "Epoch Accuracy: 0.91536\n",
            "Progress: 128, current accuracy: 0.859375\n",
            "Progress: 6528, current accuracy: 0.8671875\n",
            "Test Accuracy: 0.8462\n",
            "Epoch 20, learning rate [0.0002219641176603649]\n",
            "Progress: 128, current accuracy: 0.9453125\n",
            "Progress: 6528, current accuracy: 0.921875\n",
            "Progress: 12928, current accuracy: 0.9140625\n",
            "Progress: 19328, current accuracy: 0.9296875\n",
            "Progress: 25728, current accuracy: 0.9453125\n",
            "Progress: 32128, current accuracy: 0.921875\n",
            "Progress: 38528, current accuracy: 0.9140625\n",
            "Progress: 44928, current accuracy: 0.890625\n",
            "Epoch Accuracy: 0.92642\n",
            "Progress: 128, current accuracy: 0.859375\n",
            "Progress: 6528, current accuracy: 0.8515625\n",
            "Test Accuracy: 0.8566\n",
            "Epoch 21, learning rate [0.0001859423525312737]\n",
            "Progress: 128, current accuracy: 0.9921875\n",
            "Progress: 6528, current accuracy: 0.9375\n",
            "Progress: 12928, current accuracy: 0.9375\n",
            "Progress: 19328, current accuracy: 0.921875\n",
            "Progress: 25728, current accuracy: 0.90625\n",
            "Progress: 32128, current accuracy: 0.953125\n",
            "Progress: 38528, current accuracy: 0.875\n",
            "Progress: 44928, current accuracy: 0.90625\n",
            "Epoch Accuracy: 0.93448\n",
            "Progress: 128, current accuracy: 0.8671875\n",
            "Progress: 6528, current accuracy: 0.859375\n",
            "Test Accuracy: 0.8605\n",
            "Epoch 22, learning rate [0.0001556619939802614]\n",
            "Progress: 128, current accuracy: 0.9609375\n",
            "Progress: 6528, current accuracy: 0.984375\n",
            "Progress: 12928, current accuracy: 0.921875\n",
            "Progress: 19328, current accuracy: 0.9453125\n",
            "Progress: 25728, current accuracy: 0.953125\n",
            "Progress: 32128, current accuracy: 0.9609375\n",
            "Progress: 38528, current accuracy: 0.96875\n",
            "Progress: 44928, current accuracy: 0.90625\n",
            "Epoch Accuracy: 0.94566\n",
            "Progress: 128, current accuracy: 0.84375\n",
            "Progress: 6528, current accuracy: 0.84375\n",
            "Test Accuracy: 0.8703\n",
            "Epoch 23, learning rate [0.00013160058135028692]\n",
            "Progress: 128, current accuracy: 0.9375\n",
            "Progress: 6528, current accuracy: 0.9765625\n",
            "Progress: 12928, current accuracy: 0.953125\n",
            "Progress: 19328, current accuracy: 0.9609375\n",
            "Progress: 25728, current accuracy: 0.9765625\n",
            "Progress: 32128, current accuracy: 0.9609375\n",
            "Progress: 38528, current accuracy: 0.9375\n",
            "Progress: 44928, current accuracy: 0.9375\n",
            "Epoch Accuracy: 0.95474\n",
            "Progress: 128, current accuracy: 0.84375\n",
            "Progress: 6528, current accuracy: 0.8515625\n",
            "Test Accuracy: 0.8666\n",
            "Epoch 24, learning rate [0.00011413757749211608]\n",
            "Progress: 128, current accuracy: 0.9609375\n",
            "Progress: 6528, current accuracy: 0.953125\n",
            "Progress: 12928, current accuracy: 0.96875\n",
            "Progress: 19328, current accuracy: 0.9609375\n",
            "Progress: 25728, current accuracy: 0.9140625\n",
            "Progress: 32128, current accuracy: 0.9765625\n",
            "Progress: 38528, current accuracy: 0.96875\n",
            "Progress: 44928, current accuracy: 0.9765625\n",
            "Epoch Accuracy: 0.96078\n",
            "Progress: 128, current accuracy: 0.8671875\n",
            "Progress: 6528, current accuracy: 0.828125\n",
            "Test Accuracy: 0.8671\n",
            "Epoch 25, learning rate [0.00010354838440848502]\n",
            "Progress: 128, current accuracy: 0.9765625\n",
            "Progress: 6528, current accuracy: 0.9921875\n",
            "Progress: 12928, current accuracy: 0.9609375\n",
            "Progress: 19328, current accuracy: 0.953125\n",
            "Progress: 25728, current accuracy: 0.9296875\n",
            "Progress: 32128, current accuracy: 0.9609375\n",
            "Progress: 38528, current accuracy: 0.96875\n",
            "Progress: 44928, current accuracy: 0.90625\n",
            "Epoch Accuracy: 0.9656\n",
            "Progress: 128, current accuracy: 0.8359375\n",
            "Progress: 6528, current accuracy: 0.9140625\n",
            "Test Accuracy: 0.8726\n",
            "Training Time:  0:09:09.213472\n"
          ]
        },
        {
          "output_type": "execute_result",
          "data": {
            "text/plain": [
              "Text(0, 0.5, 'Training Accuracy')"
            ]
          },
          "metadata": {},
          "execution_count": 13
        },
        {
          "output_type": "display_data",
          "data": {
            "text/plain": [
              "<Figure size 640x480 with 1 Axes>"
            ],
            "image/png": "[encoded data removed]"
          },
          "metadata": {}
        },
        {
          "output_type": "display_data",
          "data": {
            "text/plain": [
              "<Figure size 640x480 with 1 Axes>"
            ],
            "image/png": "[encoded data removed]"
          },
          "metadata": {}
        }
      ]
    }
  ]
}